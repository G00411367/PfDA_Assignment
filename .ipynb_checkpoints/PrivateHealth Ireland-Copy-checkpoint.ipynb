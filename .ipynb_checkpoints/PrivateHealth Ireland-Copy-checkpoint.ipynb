{
 "cells": [
  {
   "cell_type": "markdown",
   "id": "58c25ef1",
   "metadata": {},
   "source": [
    "# Programming for Data Analysis Project"
   ]
  },
  {
   "cell_type": "markdown",
   "id": "4e0061a8",
   "metadata": {},
   "source": [
    "GG00411367 Ioan Domsa"
   ]
  },
  {
   "cell_type": "markdown",
   "id": "75decce7",
   "metadata": {},
   "source": [
    "The scope of this project is to create a synthetic dataset of a world phenomenon and investigate the modeled dataset using Python"
   ]
  },
  {
   "cell_type": "markdown",
   "id": "b93ee885",
   "metadata": {},
   "source": [
    "## 1. Phenomenon"
   ]
  },
  {
   "cell_type": "markdown",
   "id": "ba759b4b",
   "metadata": {},
   "source": [
    "For this project I am investigating the Private Health Insurance in Ireland in 2021"
   ]
  },
  {
   "cell_type": "markdown",
   "id": "800cef0b",
   "metadata": {},
   "source": [
    "Ireland like all European countries offers public health to its citizens at a substantial reduced rate. \n",
    "Although Ireland's spend on healthcare per capita is among highest in Europe, Ireland has one of the fewest available hospital beds in the EU. Also, Ireland has one of the lowest amount of doctors per capita in Europe.\n",
    "These particularities together with other factors creates very long weitlists for public health.\n",
    "For this reason people choose to purchase private healt insurance but the price consideration is a great barrier."
   ]
  },
  {
   "cell_type": "markdown",
   "id": "b009bae1",
   "metadata": {},
   "source": [
    "## 2. Variables"
   ]
  },
  {
   "cell_type": "markdown",
   "id": "5dcc175a",
   "metadata": {},
   "source": [
    "As health is the center of our lifes I believe it is interesting to understand the the extent of population in Ireland purchasing private health insurance and the profile of it. \n",
    "\n",
    "The project is analyzing the following variables:"
   ]
  },
  {
   "cell_type": "markdown",
   "id": "0349a288",
   "metadata": {},
   "source": [
    "- Gender Male/Female\n",
    "- Age group: 18-24, 25-44, 45-64, 65+\n",
    "- Social class: ABC1, C2DE, F\n",
    "- Average number of children per policy: None, One, Two or more\n",
    "- Incidence of private health: Yes/No "
   ]
  },
  {
   "cell_type": "markdown",
   "id": "64c3389a",
   "metadata": {},
   "source": [
    "The dataset has a population of 1000"
   ]
  },
  {
   "cell_type": "markdown",
   "id": "41a8c9e1",
   "metadata": {},
   "source": [
    "#### Importing python packages"
   ]
  },
  {
   "cell_type": "code",
   "execution_count": 1,
   "id": "6c579d2f",
   "metadata": {},
   "outputs": [],
   "source": [
    "import numpy as np\n",
    "import pandas as pd\n",
    "import matplotlib.pyplot as plt\n",
    "\n",
    "import seaborn as sns\n",
    "\n",
    "rng = np.random.default_rng()"
   ]
  },
  {
   "cell_type": "markdown",
   "id": "21df4a46",
   "metadata": {},
   "source": [
    "### Gender"
   ]
  },
  {
   "cell_type": "markdown",
   "id": "1fb786e1",
   "metadata": {},
   "source": [
    "Representation of gender of the population with private health insurance as per survey is:\n",
    "\n",
    "- 52% Male\n",
    "- 48% Female"
   ]
  },
  {
   "cell_type": "markdown",
   "id": "927dc86d",
   "metadata": {},
   "source": [
    "The gender variable is a categorical data type. It follows binomial distribution which is a common discrete distribustion.\n",
    "\n",
    "This distribution has only two possible outcomes and represents the probability for x successes in n trials, given a success probability p for each trial.\n",
    "\n",
    "An example of binomial distribution"
   ]
  },
  {
   "cell_type": "markdown",
   "id": "69a82c41",
   "metadata": {},
   "source": [
    "![Picture Binom](Images/Binomialexample.jpg)"
   ]
  },
  {
   "cell_type": "code",
   "execution_count": 2,
   "id": "c2c7d54d",
   "metadata": {
    "collapsed": true
   },
   "outputs": [
    {
     "name": "stdout",
     "output_type": "stream",
     "text": [
      "Gender set: ['Male' 'Male' 'Female' 'Female' 'Male' 'Male' 'Female' 'Male' 'Male'\n",
      " 'Female' 'Female' 'Male' 'Female' 'Male' 'Male' 'Female' 'Female' 'Male'\n",
      " 'Female' 'Female' 'Female' 'Male' 'Male' 'Male' 'Female' 'Male' 'Male'\n",
      " 'Male' 'Male' 'Female' 'Female' 'Female' 'Female' 'Female' 'Female'\n",
      " 'Female' 'Male' 'Female' 'Male' 'Female' 'Female' 'Male' 'Male' 'Female'\n",
      " 'Female' 'Male' 'Female' 'Male' 'Female' 'Female' 'Male' 'Male' 'Male'\n",
      " 'Female' 'Male' 'Male' 'Male' 'Female' 'Female' 'Female' 'Female' 'Male'\n",
      " 'Female' 'Female' 'Female' 'Male' 'Female' 'Male' 'Male' 'Male' 'Male'\n",
      " 'Male' 'Male' 'Male' 'Female' 'Male' 'Female' 'Male' 'Female' 'Female'\n",
      " 'Male' 'Female' 'Female' 'Male' 'Female' 'Male' 'Male' 'Male' 'Female'\n",
      " 'Male' 'Male' 'Female' 'Male' 'Female' 'Male' 'Male' 'Male' 'Female'\n",
      " 'Female' 'Male' 'Female' 'Female' 'Female' 'Female' 'Female' 'Female'\n",
      " 'Male' 'Female' 'Male' 'Male' 'Female' 'Female' 'Female' 'Female' 'Male'\n",
      " 'Male' 'Male' 'Female' 'Male' 'Female' 'Male' 'Male' 'Male' 'Male'\n",
      " 'Female' 'Female' 'Male' 'Male' 'Female' 'Male' 'Male' 'Female' 'Male'\n",
      " 'Female' 'Male' 'Male' 'Female' 'Male' 'Male' 'Female' 'Male' 'Male'\n",
      " 'Female' 'Male' 'Male' 'Female' 'Female' 'Male' 'Female' 'Female'\n",
      " 'Female' 'Male' 'Female' 'Male' 'Male' 'Male' 'Male' 'Male' 'Male' 'Male'\n",
      " 'Male' 'Male' 'Female' 'Male' 'Female' 'Male' 'Male' 'Male' 'Male' 'Male'\n",
      " 'Male' 'Female' 'Female' 'Male' 'Male' 'Female' 'Male' 'Male' 'Male'\n",
      " 'Male' 'Female' 'Female' 'Female' 'Female' 'Female' 'Female' 'Female'\n",
      " 'Female' 'Male' 'Female' 'Female' 'Male' 'Female' 'Female' 'Female'\n",
      " 'Male' 'Female' 'Female' 'Male' 'Male' 'Male' 'Male' 'Female' 'Male'\n",
      " 'Male' 'Male' 'Female' 'Male' 'Male' 'Female' 'Female' 'Male' 'Female'\n",
      " 'Male' 'Male' 'Female' 'Male' 'Female' 'Female' 'Female' 'Male' 'Male'\n",
      " 'Female' 'Male' 'Female' 'Female' 'Male' 'Female' 'Female' 'Male'\n",
      " 'Female' 'Male' 'Female' 'Male' 'Male' 'Female' 'Female' 'Male' 'Female'\n",
      " 'Male' 'Male' 'Male' 'Male' 'Female' 'Male' 'Female' 'Male' 'Male'\n",
      " 'Female' 'Male' 'Female' 'Male' 'Male' 'Male' 'Female' 'Female' 'Female'\n",
      " 'Female' 'Male' 'Male' 'Female' 'Female' 'Male' 'Male' 'Female' 'Female'\n",
      " 'Male' 'Male' 'Male' 'Female' 'Female' 'Male' 'Male' 'Female' 'Male'\n",
      " 'Female' 'Male' 'Female' 'Male' 'Male' 'Female' 'Male' 'Female' 'Female'\n",
      " 'Female' 'Female' 'Male' 'Male' 'Male' 'Female' 'Female' 'Female' 'Male'\n",
      " 'Female' 'Female' 'Female' 'Male' 'Male' 'Female' 'Male']\n"
     ]
    }
   ],
   "source": [
    "# Generate gender list \n",
    "gen = [\"Male\", \"Female\"]\n",
    "size = 300\n",
    "p = [0.52, 0.48]\n",
    "\n",
    "gender = rng.choice(gen, size = size, p = p)\n",
    "\n",
    "print(\"Gender set:\", gender)"
   ]
  },
  {
   "cell_type": "code",
   "execution_count": 3,
   "id": "5e0b59a1",
   "metadata": {},
   "outputs": [
    {
     "name": "stdout",
     "output_type": "stream",
     "text": [
      "[['Female' 'Male']\n",
      " ['143' '157']]\n"
     ]
    }
   ],
   "source": [
    "# Find unique elements of the list and count the number of times they appear in list\n",
    "unique_gender, counts_gender = np.unique(gender, return_counts=True)\n",
    "\n",
    "print(np.asarray((unique_gender, counts_gender)))"
   ]
  },
  {
   "cell_type": "code",
   "execution_count": null,
   "id": "5c84e88e",
   "metadata": {},
   "outputs": [],
   "source": []
  },
  {
   "cell_type": "code",
   "execution_count": 4,
   "id": "6178dff1",
   "metadata": {},
   "outputs": [
    {
     "data": {
      "image/png": "[encoded data removed]",
      "text/plain": [
       "<Figure size 640x480 with 1 Axes>"
      ]
     },
     "metadata": {},
     "output_type": "display_data"
    }
   ],
   "source": [
    "# Use bar chart to visualize the ditribution of this variable\n",
    "plt.bar(unique_gender, counts_gender, width = 0.3)\n",
    "\n",
    "plt.xlabel(\"Gender\")\n",
    "plt.ylabel(\"Counts\")\n",
    "plt.title(\"Gender representation of people with Health Insurance\")\n",
    "\n",
    "plt.show()"
   ]
  },
  {
   "cell_type": "code",
   "execution_count": 5,
   "id": "e7500748",
   "metadata": {},
   "outputs": [
    {
     "data": {
      "text/html": [
       "<div>\n",
       "<style scoped>\n",
       "    .dataframe tbody tr th:only-of-type {\n",
       "        vertical-align: middle;\n",
       "    }\n",
       "\n",
       "    .dataframe tbody tr th {\n",
       "        vertical-align: top;\n",
       "    }\n",
       "\n",
       "    .dataframe thead th {\n",
       "        text-align: right;\n",
       "    }\n",
       "</style>\n",
       "<table border=\"1\" class=\"dataframe\">\n",
       "  <thead>\n",
       "    <tr style=\"text-align: right;\">\n",
       "      <th></th>\n",
       "      <th>Gender</th>\n",
       "    </tr>\n",
       "  </thead>\n",
       "  <tbody>\n",
       "    <tr>\n",
       "      <th>0</th>\n",
       "      <td>Male</td>\n",
       "    </tr>\n",
       "    <tr>\n",
       "      <th>1</th>\n",
       "      <td>Male</td>\n",
       "    </tr>\n",
       "    <tr>\n",
       "      <th>2</th>\n",
       "      <td>Female</td>\n",
       "    </tr>\n",
       "    <tr>\n",
       "      <th>3</th>\n",
       "      <td>Female</td>\n",
       "    </tr>\n",
       "    <tr>\n",
       "      <th>4</th>\n",
       "      <td>Male</td>\n",
       "    </tr>\n",
       "    <tr>\n",
       "      <th>...</th>\n",
       "      <td>...</td>\n",
       "    </tr>\n",
       "    <tr>\n",
       "      <th>295</th>\n",
       "      <td>Female</td>\n",
       "    </tr>\n",
       "    <tr>\n",
       "      <th>296</th>\n",
       "      <td>Male</td>\n",
       "    </tr>\n",
       "    <tr>\n",
       "      <th>297</th>\n",
       "      <td>Male</td>\n",
       "    </tr>\n",
       "    <tr>\n",
       "      <th>298</th>\n",
       "      <td>Female</td>\n",
       "    </tr>\n",
       "    <tr>\n",
       "      <th>299</th>\n",
       "      <td>Male</td>\n",
       "    </tr>\n",
       "  </tbody>\n",
       "</table>\n",
       "<p>300 rows × 1 columns</p>\n",
       "</div>"
      ],
      "text/plain": [
       "     Gender\n",
       "0      Male\n",
       "1      Male\n",
       "2    Female\n",
       "3    Female\n",
       "4      Male\n",
       "..      ...\n",
       "295  Female\n",
       "296    Male\n",
       "297    Male\n",
       "298  Female\n",
       "299    Male\n",
       "\n",
       "[300 rows x 1 columns]"
      ]
     },
     "execution_count": 5,
     "metadata": {},
     "output_type": "execute_result"
    }
   ],
   "source": [
    "# Create a dataframe from the random set generated above\n",
    "df_gender = pd.DataFrame(gender, columns =['Gender'])\n",
    "df_gender"
   ]
  },
  {
   "cell_type": "markdown",
   "id": "1f369dae",
   "metadata": {},
   "source": [
    "### Age group\n",
    "\n",
    "The survey shows following age group distribution for people who purchased private health insurance in Ireland in 2021:\n",
    "\n",
    "- 11% Age 18-24\n",
    "- 37% Age 25-34\n",
    "- 32% Age 45-64\n",
    "- 20% Age 65+"
   ]
  },
  {
   "cell_type": "markdown",
   "id": "be750893",
   "metadata": {},
   "source": [
    "The Age group variable is an ordinal data witch is a type of categorical data with a set order to it.\n",
    "\n",
    "As this variable is also a categorical data we will be using the same methods for analizing and visualization."
   ]
  },
  {
   "cell_type": "code",
   "execution_count": 6,
   "id": "1179f693",
   "metadata": {},
   "outputs": [
    {
     "name": "stdout",
     "output_type": "stream",
     "text": [
      "Age group set: ['65+' '25-34' '45-64' '45-64' '45-64' '45-64' '45-64' '18-24' '65+'\n",
      " '45-64' '45-64' '65+' '65+' '45-64' '25-34' '18-24' '65+' '45-64' '45-64'\n",
      " '45-64' '25-34' '25-34' '25-34' '45-64' '18-24' '45-64' '65+' '65+'\n",
      " '25-34' '45-64' '25-34' '25-34' '65+' '45-64' '45-64' '45-64' '18-24'\n",
      " '18-24' '45-64' '25-34' '45-64' '18-24' '65+' '65+' '45-64' '18-24'\n",
      " '45-64' '25-34' '25-34' '65+' '45-64' '45-64' '45-64' '25-34' '18-24'\n",
      " '45-64' '65+' '25-34' '25-34' '65+' '25-34' '25-34' '45-64' '45-64'\n",
      " '25-34' '25-34' '65+' '65+' '18-24' '25-34' '25-34' '65+' '45-64' '45-64'\n",
      " '18-24' '25-34' '25-34' '65+' '25-34' '45-64' '65+' '25-34' '45-64'\n",
      " '25-34' '65+' '45-64' '65+' '25-34' '45-64' '25-34' '25-34' '65+' '25-34'\n",
      " '45-64' '65+' '25-34' '45-64' '25-34' '65+' '65+' '25-34' '45-64' '25-34'\n",
      " '18-24' '18-24' '45-64' '65+' '25-34' '45-64' '25-34' '45-64' '45-64'\n",
      " '45-64' '45-64' '25-34' '45-64' '25-34' '65+' '25-34' '45-64' '25-34'\n",
      " '25-34' '65+' '45-64' '45-64' '45-64' '25-34' '65+' '45-64' '65+' '25-34'\n",
      " '65+' '45-64' '25-34' '25-34' '65+' '65+' '45-64' '45-64' '25-34' '25-34'\n",
      " '18-24' '65+' '25-34' '25-34' '65+' '25-34' '65+' '18-24' '25-34' '65+'\n",
      " '45-64' '18-24' '25-34' '45-64' '45-64' '25-34' '25-34' '45-64' '25-34'\n",
      " '25-34' '25-34' '25-34' '18-24' '65+' '25-34' '45-64' '65+' '18-24'\n",
      " '45-64' '45-64' '65+' '25-34' '18-24' '45-64' '65+' '25-34' '45-64' '65+'\n",
      " '65+' '65+' '25-34' '45-64' '65+' '25-34' '45-64' '25-34' '45-64' '18-24'\n",
      " '25-34' '25-34' '45-64' '65+' '45-64' '18-24' '25-34' '25-34' '65+'\n",
      " '25-34' '65+' '18-24' '45-64' '45-64' '25-34' '25-34' '25-34' '65+'\n",
      " '25-34' '25-34' '45-64' '25-34' '65+' '25-34' '45-64' '65+' '65+' '25-34'\n",
      " '45-64' '65+' '25-34' '18-24' '18-24' '25-34' '65+' '65+' '25-34' '25-34'\n",
      " '25-34' '25-34' '25-34' '45-64' '65+' '25-34' '45-64' '45-64' '18-24'\n",
      " '45-64' '65+' '25-34' '25-34' '25-34' '25-34' '65+' '25-34' '18-24'\n",
      " '45-64' '18-24' '18-24' '45-64' '45-64' '25-34' '45-64' '45-64' '65+'\n",
      " '65+' '65+' '25-34' '18-24' '65+' '65+' '25-34' '18-24' '25-34' '45-64'\n",
      " '25-34' '25-34' '18-24' '65+' '25-34' '25-34' '18-24' '65+' '45-64'\n",
      " '25-34' '25-34' '25-34' '65+' '45-64' '25-34' '25-34' '25-34' '45-64'\n",
      " '45-64' '45-64' '25-34' '25-34' '25-34' '25-34' '25-34' '45-64' '65+'\n",
      " '25-34' '45-64' '45-64' '45-64' '45-64' '45-64' '25-34' '25-34' '65+']\n"
     ]
    }
   ],
   "source": [
    "# Generate the Age group set\n",
    "age = [\"18-24\", \"25-34\", \"45-64\", \"65+\"]\n",
    "p = [0.11, 0.37, 0.32, 0.2]\n",
    "\n",
    "age_gr = rng.choice(age, size = size, p = p)\n",
    "print(\"Age group set:\", age_gr)"
   ]
  },
  {
   "cell_type": "code",
   "execution_count": 7,
   "id": "d1b8cc52",
   "metadata": {},
   "outputs": [
    {
     "name": "stdout",
     "output_type": "stream",
     "text": [
      "[['18-24' '25-34' '45-64' '65+']\n",
      " ['31' '111' '91' '67']]\n"
     ]
    }
   ],
   "source": [
    "# Find unique elements of the list and count the number of times they appear in list\n",
    "unique_age, counts_age = np.unique(age_gr, return_counts=True)\n",
    "print(np.asarray((unique_age, counts_age)))"
   ]
  },
  {
   "cell_type": "code",
   "execution_count": 8,
   "id": "c02ff671",
   "metadata": {},
   "outputs": [
    {
     "data": {
      "image/png": "[encoded data removed]",
      "text/plain": [
       "<Figure size 640x480 with 1 Axes>"
      ]
     },
     "metadata": {},
     "output_type": "display_data"
    }
   ],
   "source": [
    "# Use bar cahrt to visualize the ditribution of this variable\n",
    "plt.bar(unique_age, counts_age, width = 0.3)\n",
    "\n",
    "plt.xlabel(\"Age\")\n",
    "plt.ylabel(\"Counts\")\n",
    "plt.title(\"Age representation of people with Health Insurance\")\n",
    "\n",
    "plt.show()"
   ]
  },
  {
   "cell_type": "code",
   "execution_count": 9,
   "id": "c840e652",
   "metadata": {},
   "outputs": [
    {
     "data": {
      "text/html": [
       "<div>\n",
       "<style scoped>\n",
       "    .dataframe tbody tr th:only-of-type {\n",
       "        vertical-align: middle;\n",
       "    }\n",
       "\n",
       "    .dataframe tbody tr th {\n",
       "        vertical-align: top;\n",
       "    }\n",
       "\n",
       "    .dataframe thead th {\n",
       "        text-align: right;\n",
       "    }\n",
       "</style>\n",
       "<table border=\"1\" class=\"dataframe\">\n",
       "  <thead>\n",
       "    <tr style=\"text-align: right;\">\n",
       "      <th></th>\n",
       "      <th>Age</th>\n",
       "    </tr>\n",
       "  </thead>\n",
       "  <tbody>\n",
       "    <tr>\n",
       "      <th>0</th>\n",
       "      <td>65+</td>\n",
       "    </tr>\n",
       "    <tr>\n",
       "      <th>1</th>\n",
       "      <td>25-34</td>\n",
       "    </tr>\n",
       "    <tr>\n",
       "      <th>2</th>\n",
       "      <td>45-64</td>\n",
       "    </tr>\n",
       "    <tr>\n",
       "      <th>3</th>\n",
       "      <td>45-64</td>\n",
       "    </tr>\n",
       "    <tr>\n",
       "      <th>4</th>\n",
       "      <td>45-64</td>\n",
       "    </tr>\n",
       "    <tr>\n",
       "      <th>...</th>\n",
       "      <td>...</td>\n",
       "    </tr>\n",
       "    <tr>\n",
       "      <th>295</th>\n",
       "      <td>45-64</td>\n",
       "    </tr>\n",
       "    <tr>\n",
       "      <th>296</th>\n",
       "      <td>45-64</td>\n",
       "    </tr>\n",
       "    <tr>\n",
       "      <th>297</th>\n",
       "      <td>25-34</td>\n",
       "    </tr>\n",
       "    <tr>\n",
       "      <th>298</th>\n",
       "      <td>25-34</td>\n",
       "    </tr>\n",
       "    <tr>\n",
       "      <th>299</th>\n",
       "      <td>65+</td>\n",
       "    </tr>\n",
       "  </tbody>\n",
       "</table>\n",
       "<p>300 rows × 1 columns</p>\n",
       "</div>"
      ],
      "text/plain": [
       "       Age\n",
       "0      65+\n",
       "1    25-34\n",
       "2    45-64\n",
       "3    45-64\n",
       "4    45-64\n",
       "..     ...\n",
       "295  45-64\n",
       "296  45-64\n",
       "297  25-34\n",
       "298  25-34\n",
       "299    65+\n",
       "\n",
       "[300 rows x 1 columns]"
      ]
     },
     "execution_count": 9,
     "metadata": {},
     "output_type": "execute_result"
    }
   ],
   "source": [
    "# Create the dataframe from the random set generated above\n",
    "df_age = pd.DataFrame(age_gr, columns =['Age'])\n",
    "df_age"
   ]
  },
  {
   "cell_type": "markdown",
   "id": "c944e5c4",
   "metadata": {},
   "source": [
    "### Social class\n",
    "\n",
    "The survey shows following social class distribution for people who purchased private health insurance in Ireland in 2021:\n",
    "\n",
    "This variable is also an ordinal data type\n",
    "\n",
    "- 53% ABC1\n",
    "- 39% C2DE\n",
    "- 8% F"
   ]
  },
  {
   "cell_type": "code",
   "execution_count": 10,
   "id": "0076078d",
   "metadata": {},
   "outputs": [
    {
     "name": "stdout",
     "output_type": "stream",
     "text": [
      "Social class set: ['C2DE' 'ABC1' 'ABC1' 'ABC1' 'ABC1' 'ABC1' 'ABC1' 'ABC1' 'ABC1' 'ABC1'\n",
      " 'C2DE' 'ABC1' 'F' 'ABC1' 'ABC1' 'F' 'F' 'ABC1' 'ABC1' 'C2DE' 'ABC1'\n",
      " 'ABC1' 'C2DE' 'ABC1' 'ABC1' 'ABC1' 'ABC1' 'ABC1' 'ABC1' 'ABC1' 'ABC1'\n",
      " 'C2DE' 'ABC1' 'ABC1' 'ABC1' 'ABC1' 'ABC1' 'ABC1' 'ABC1' 'F' 'ABC1' 'ABC1'\n",
      " 'F' 'ABC1' 'ABC1' 'F' 'C2DE' 'ABC1' 'ABC1' 'ABC1' 'ABC1' 'ABC1' 'ABC1'\n",
      " 'ABC1' 'F' 'ABC1' 'C2DE' 'C2DE' 'ABC1' 'ABC1' 'C2DE' 'ABC1' 'F' 'ABC1'\n",
      " 'ABC1' 'C2DE' 'ABC1' 'C2DE' 'C2DE' 'ABC1' 'ABC1' 'ABC1' 'ABC1' 'ABC1'\n",
      " 'C2DE' 'C2DE' 'ABC1' 'C2DE' 'ABC1' 'C2DE' 'C2DE' 'C2DE' 'ABC1' 'F' 'ABC1'\n",
      " 'ABC1' 'ABC1' 'ABC1' 'ABC1' 'ABC1' 'C2DE' 'ABC1' 'C2DE' 'ABC1' 'ABC1'\n",
      " 'C2DE' 'ABC1' 'C2DE' 'C2DE' 'F' 'C2DE' 'F' 'ABC1' 'ABC1' 'ABC1' 'C2DE'\n",
      " 'ABC1' 'C2DE' 'ABC1' 'C2DE' 'C2DE' 'C2DE' 'C2DE' 'C2DE' 'C2DE' 'ABC1'\n",
      " 'ABC1' 'ABC1' 'ABC1' 'ABC1' 'C2DE' 'C2DE' 'ABC1' 'ABC1' 'ABC1' 'F' 'C2DE'\n",
      " 'ABC1' 'C2DE' 'ABC1' 'C2DE' 'C2DE' 'ABC1' 'ABC1' 'ABC1' 'ABC1' 'C2DE'\n",
      " 'ABC1' 'C2DE' 'ABC1' 'F' 'C2DE' 'ABC1' 'ABC1' 'C2DE' 'C2DE' 'ABC1' 'C2DE'\n",
      " 'ABC1' 'ABC1' 'ABC1' 'C2DE' 'C2DE' 'ABC1' 'C2DE' 'C2DE' 'C2DE' 'ABC1'\n",
      " 'C2DE' 'ABC1' 'C2DE' 'ABC1' 'C2DE' 'ABC1' 'ABC1' 'C2DE' 'C2DE' 'C2DE'\n",
      " 'ABC1' 'C2DE' 'ABC1' 'ABC1' 'ABC1' 'C2DE' 'ABC1' 'ABC1' 'C2DE' 'ABC1'\n",
      " 'ABC1' 'ABC1' 'ABC1' 'ABC1' 'ABC1' 'C2DE' 'ABC1' 'ABC1' 'ABC1' 'ABC1'\n",
      " 'ABC1' 'ABC1' 'F' 'ABC1' 'F' 'ABC1' 'ABC1' 'ABC1' 'C2DE' 'C2DE' 'ABC1'\n",
      " 'ABC1' 'ABC1' 'C2DE' 'C2DE' 'ABC1' 'C2DE' 'ABC1' 'ABC1' 'C2DE' 'ABC1' 'F'\n",
      " 'ABC1' 'C2DE' 'C2DE' 'C2DE' 'ABC1' 'F' 'C2DE' 'F' 'C2DE' 'C2DE' 'C2DE'\n",
      " 'ABC1' 'F' 'ABC1' 'F' 'F' 'F' 'ABC1' 'ABC1' 'C2DE' 'C2DE' 'ABC1' 'C2DE'\n",
      " 'ABC1' 'C2DE' 'C2DE' 'ABC1' 'C2DE' 'ABC1' 'C2DE' 'ABC1' 'ABC1' 'F' 'C2DE'\n",
      " 'ABC1' 'ABC1' 'ABC1' 'ABC1' 'ABC1' 'ABC1' 'ABC1' 'C2DE' 'ABC1' 'C2DE'\n",
      " 'C2DE' 'ABC1' 'C2DE' 'ABC1' 'C2DE' 'ABC1' 'ABC1' 'ABC1' 'ABC1' 'C2DE'\n",
      " 'ABC1' 'ABC1' 'ABC1' 'ABC1' 'ABC1' 'ABC1' 'C2DE' 'ABC1' 'F' 'ABC1' 'C2DE'\n",
      " 'ABC1' 'C2DE' 'C2DE' 'ABC1' 'ABC1' 'C2DE' 'C2DE' 'ABC1' 'ABC1' 'ABC1'\n",
      " 'C2DE' 'C2DE' 'ABC1' 'ABC1' 'ABC1' 'C2DE' 'ABC1' 'F' 'ABC1' 'ABC1' 'C2DE'\n",
      " 'C2DE' 'F' 'C2DE' 'C2DE']\n"
     ]
    }
   ],
   "source": [
    "# Generate the social class set \n",
    "scl = [\"ABC1\", \"C2DE\", \"F\"]\n",
    "p = [0.53, 0.39, 0.08]\n",
    "\n",
    "sc = rng.choice(scl, size = size, p = p)\n",
    "print(\"Social class set:\", sc)"
   ]
  },
  {
   "cell_type": "code",
   "execution_count": 11,
   "id": "7682169c",
   "metadata": {},
   "outputs": [
    {
     "name": "stdout",
     "output_type": "stream",
     "text": [
      "[['ABC1' 'C2DE' 'F']\n",
      " ['175' '99' '26']]\n"
     ]
    }
   ],
   "source": [
    "# Find unique elements of the list and count the number of times they appear in list\n",
    "unique_sc, counts_sc = np.unique(sc, return_counts=True)\n",
    "print(np.asarray((unique_sc, counts_sc)))"
   ]
  },
  {
   "cell_type": "code",
   "execution_count": 12,
   "id": "bd62574a",
   "metadata": {},
   "outputs": [
    {
     "data": {
      "image/png": "[encoded data removed]",
      "text/plain": [
       "<Figure size 640x480 with 1 Axes>"
      ]
     },
     "metadata": {},
     "output_type": "display_data"
    }
   ],
   "source": [
    "# Use bar cahrt to visualize the ditribution of this variable\n",
    "plt.bar(unique_sc, counts_sc, width = 0.3)\n",
    "\n",
    "plt.xlabel(\"Social class\")\n",
    "plt.ylabel(\"Counts\")\n",
    "plt.title(\"Social class representation of people with Health Insurance\")\n",
    "\n",
    "plt.show()"
   ]
  },
  {
   "cell_type": "code",
   "execution_count": 13,
   "id": "ba7625d1",
   "metadata": {},
   "outputs": [
    {
     "data": {
      "text/html": [
       "<div>\n",
       "<style scoped>\n",
       "    .dataframe tbody tr th:only-of-type {\n",
       "        vertical-align: middle;\n",
       "    }\n",
       "\n",
       "    .dataframe tbody tr th {\n",
       "        vertical-align: top;\n",
       "    }\n",
       "\n",
       "    .dataframe thead th {\n",
       "        text-align: right;\n",
       "    }\n",
       "</style>\n",
       "<table border=\"1\" class=\"dataframe\">\n",
       "  <thead>\n",
       "    <tr style=\"text-align: right;\">\n",
       "      <th></th>\n",
       "      <th>Social class</th>\n",
       "    </tr>\n",
       "  </thead>\n",
       "  <tbody>\n",
       "    <tr>\n",
       "      <th>0</th>\n",
       "      <td>C2DE</td>\n",
       "    </tr>\n",
       "    <tr>\n",
       "      <th>1</th>\n",
       "      <td>ABC1</td>\n",
       "    </tr>\n",
       "    <tr>\n",
       "      <th>2</th>\n",
       "      <td>ABC1</td>\n",
       "    </tr>\n",
       "    <tr>\n",
       "      <th>3</th>\n",
       "      <td>ABC1</td>\n",
       "    </tr>\n",
       "    <tr>\n",
       "      <th>4</th>\n",
       "      <td>ABC1</td>\n",
       "    </tr>\n",
       "    <tr>\n",
       "      <th>...</th>\n",
       "      <td>...</td>\n",
       "    </tr>\n",
       "    <tr>\n",
       "      <th>295</th>\n",
       "      <td>C2DE</td>\n",
       "    </tr>\n",
       "    <tr>\n",
       "      <th>296</th>\n",
       "      <td>C2DE</td>\n",
       "    </tr>\n",
       "    <tr>\n",
       "      <th>297</th>\n",
       "      <td>F</td>\n",
       "    </tr>\n",
       "    <tr>\n",
       "      <th>298</th>\n",
       "      <td>C2DE</td>\n",
       "    </tr>\n",
       "    <tr>\n",
       "      <th>299</th>\n",
       "      <td>C2DE</td>\n",
       "    </tr>\n",
       "  </tbody>\n",
       "</table>\n",
       "<p>300 rows × 1 columns</p>\n",
       "</div>"
      ],
      "text/plain": [
       "    Social class\n",
       "0           C2DE\n",
       "1           ABC1\n",
       "2           ABC1\n",
       "3           ABC1\n",
       "4           ABC1\n",
       "..           ...\n",
       "295         C2DE\n",
       "296         C2DE\n",
       "297            F\n",
       "298         C2DE\n",
       "299         C2DE\n",
       "\n",
       "[300 rows x 1 columns]"
      ]
     },
     "execution_count": 13,
     "metadata": {},
     "output_type": "execute_result"
    }
   ],
   "source": [
    "# Create the dataframe from the random set generated above\n",
    "df_sc = pd.DataFrame(sc, columns =['Social class'])\n",
    "df_sc"
   ]
  },
  {
   "cell_type": "markdown",
   "id": "35c93c23",
   "metadata": {},
   "source": [
    "### Number of children per policy\n",
    "\n",
    "The survey shows following number of children covered by policy:\n",
    "\n",
    "- 70% None\n",
    "- 15% One child\n",
    "- 15% Two or more"
   ]
  },
  {
   "cell_type": "code",
   "execution_count": 14,
   "id": "26f81391",
   "metadata": {},
   "outputs": [
    {
     "name": "stdout",
     "output_type": "stream",
     "text": [
      "No of children per policy set: ['Two or more' 'None' 'One child' 'Two or more' 'None' 'One child' 'None'\n",
      " 'None' 'Two or more' 'None' 'None' 'Two or more' 'None' 'None'\n",
      " 'Two or more' 'None' 'Two or more' 'None' 'None' 'One child' 'One child'\n",
      " 'None' 'None' 'None' 'None' 'One child' 'None' 'None' 'None' 'None'\n",
      " 'One child' 'None' 'One child' 'None' 'None' 'None' 'None' 'None'\n",
      " 'One child' 'None' 'Two or more' 'One child' 'One child' 'None' 'None'\n",
      " 'Two or more' 'None' 'Two or more' 'One child' 'None' 'None' 'None'\n",
      " 'None' 'None' 'One child' 'None' 'None' 'Two or more' 'None' 'None'\n",
      " 'None' 'None' 'None' 'Two or more' 'None' 'None' 'None' 'Two or more'\n",
      " 'None' 'One child' 'None' 'None' 'None' 'Two or more' 'One child'\n",
      " 'Two or more' 'One child' 'Two or more' 'None' 'None' 'Two or more'\n",
      " 'Two or more' 'None' 'None' 'One child' 'One child' 'Two or more'\n",
      " 'One child' 'None' 'None' 'Two or more' 'None' 'Two or more' 'One child'\n",
      " 'None' 'One child' 'One child' 'None' 'None' 'None' 'None' 'None' 'None'\n",
      " 'None' 'None' 'None' 'None' 'One child' 'None' 'None' 'Two or more'\n",
      " 'Two or more' 'None' 'None' 'None' 'None' 'None' 'None' 'None' 'None'\n",
      " 'None' 'None' 'Two or more' 'None' 'One child' 'None' 'None' 'None'\n",
      " 'None' 'Two or more' 'Two or more' 'None' 'None' 'None' 'None' 'None'\n",
      " 'None' 'Two or more' 'None' 'Two or more' 'One child' 'None' 'None'\n",
      " 'None' 'None' 'None' 'None' 'None' 'None' 'None' 'None' 'One child'\n",
      " 'None' 'None' 'Two or more' 'None' 'One child' 'None' 'None' 'None'\n",
      " 'None' 'Two or more' 'None' 'None' 'None' 'None' 'Two or more'\n",
      " 'One child' 'None' 'None' 'None' 'Two or more' 'None' 'Two or more'\n",
      " 'None' 'None' 'None' 'None' 'None' 'None' 'None' 'None' 'None'\n",
      " 'Two or more' 'None' 'None' 'None' 'Two or more' 'Two or more' 'None'\n",
      " 'Two or more' 'One child' 'None' 'None' 'None' 'None' 'None' 'None'\n",
      " 'Two or more' 'None' 'None' 'None' 'None' 'Two or more' 'None' 'None'\n",
      " 'One child' 'Two or more' 'Two or more' 'None' 'None' 'None' 'None'\n",
      " 'None' 'None' 'None' 'None' 'None' 'None' 'None' 'None' 'None' 'None'\n",
      " 'Two or more' 'Two or more' 'None' 'None' 'None' 'None' 'Two or more'\n",
      " 'One child' 'None' 'Two or more' 'None' 'None' 'One child' 'None' 'None'\n",
      " 'One child' 'None' 'None' 'None' 'None' 'Two or more' 'Two or more'\n",
      " 'Two or more' 'One child' 'None' 'None' 'Two or more' 'None'\n",
      " 'Two or more' 'None' 'None' 'None' 'None' 'None' 'Two or more'\n",
      " 'One child' 'None' 'None' 'None' 'Two or more' 'None' 'None' 'One child'\n",
      " 'None' 'None' 'None' 'None' 'None' 'None' 'None' 'One child' 'None'\n",
      " 'None' 'None' 'None' 'None' 'One child' 'None' 'None' 'None'\n",
      " 'Two or more' 'None' 'None' 'None' 'None' 'None' 'None' 'None'\n",
      " 'One child' 'None' 'None' 'None' 'None' 'None' 'None' 'None' 'One child']\n"
     ]
    }
   ],
   "source": [
    "# Generate the number of children set\n",
    "child = [\"None\", \"One child\", \"Two or more\"]\n",
    "p = [0.70, 0.15, 0.15]\n",
    "\n",
    "no_ch = rng.choice(child, size = size, p = p)\n",
    "print(\"No of children per policy set:\", no_ch)"
   ]
  },
  {
   "cell_type": "code",
   "execution_count": 15,
   "id": "09f44f26",
   "metadata": {},
   "outputs": [
    {
     "name": "stdout",
     "output_type": "stream",
     "text": [
      "[['None' 'One child' 'Two or more']\n",
      " ['209' '39' '52']]\n"
     ]
    }
   ],
   "source": [
    "# Find unique elements of the list and count the number of times they appear in list\n",
    "unique_ch, counts_ch = np.unique(no_ch, return_counts=True)\n",
    "print(np.asarray((unique_ch, counts_ch)))"
   ]
  },
  {
   "cell_type": "code",
   "execution_count": 16,
   "id": "0e469040",
   "metadata": {},
   "outputs": [
    {
     "data": {
      "image/png": "[encoded data removed]",
      "text/plain": [
       "<Figure size 640x480 with 1 Axes>"
      ]
     },
     "metadata": {},
     "output_type": "display_data"
    }
   ],
   "source": [
    "# Use bar chart to visualize the ditribution of this variable\n",
    "plt.bar(unique_ch, counts_ch, width = 0.3)\n",
    "\n",
    "plt.xlabel(\"Number of children\")\n",
    "plt.ylabel(\"Counts\")\n",
    "plt.title(\"Number of children covered by policy\")\n",
    "\n",
    "plt.show()"
   ]
  },
  {
   "cell_type": "code",
   "execution_count": 17,
   "id": "01672bc1",
   "metadata": {},
   "outputs": [
    {
     "data": {
      "text/html": [
       "<div>\n",
       "<style scoped>\n",
       "    .dataframe tbody tr th:only-of-type {\n",
       "        vertical-align: middle;\n",
       "    }\n",
       "\n",
       "    .dataframe tbody tr th {\n",
       "        vertical-align: top;\n",
       "    }\n",
       "\n",
       "    .dataframe thead th {\n",
       "        text-align: right;\n",
       "    }\n",
       "</style>\n",
       "<table border=\"1\" class=\"dataframe\">\n",
       "  <thead>\n",
       "    <tr style=\"text-align: right;\">\n",
       "      <th></th>\n",
       "      <th>Children</th>\n",
       "    </tr>\n",
       "  </thead>\n",
       "  <tbody>\n",
       "    <tr>\n",
       "      <th>0</th>\n",
       "      <td>Two or more</td>\n",
       "    </tr>\n",
       "    <tr>\n",
       "      <th>1</th>\n",
       "      <td>None</td>\n",
       "    </tr>\n",
       "    <tr>\n",
       "      <th>2</th>\n",
       "      <td>One child</td>\n",
       "    </tr>\n",
       "    <tr>\n",
       "      <th>3</th>\n",
       "      <td>Two or more</td>\n",
       "    </tr>\n",
       "    <tr>\n",
       "      <th>4</th>\n",
       "      <td>None</td>\n",
       "    </tr>\n",
       "    <tr>\n",
       "      <th>...</th>\n",
       "      <td>...</td>\n",
       "    </tr>\n",
       "    <tr>\n",
       "      <th>295</th>\n",
       "      <td>None</td>\n",
       "    </tr>\n",
       "    <tr>\n",
       "      <th>296</th>\n",
       "      <td>None</td>\n",
       "    </tr>\n",
       "    <tr>\n",
       "      <th>297</th>\n",
       "      <td>None</td>\n",
       "    </tr>\n",
       "    <tr>\n",
       "      <th>298</th>\n",
       "      <td>None</td>\n",
       "    </tr>\n",
       "    <tr>\n",
       "      <th>299</th>\n",
       "      <td>One child</td>\n",
       "    </tr>\n",
       "  </tbody>\n",
       "</table>\n",
       "<p>300 rows × 1 columns</p>\n",
       "</div>"
      ],
      "text/plain": [
       "        Children\n",
       "0    Two or more\n",
       "1           None\n",
       "2      One child\n",
       "3    Two or more\n",
       "4           None\n",
       "..           ...\n",
       "295         None\n",
       "296         None\n",
       "297         None\n",
       "298         None\n",
       "299    One child\n",
       "\n",
       "[300 rows x 1 columns]"
      ]
     },
     "execution_count": 17,
     "metadata": {},
     "output_type": "execute_result"
    }
   ],
   "source": [
    "# Create the dataframe from the random set generated above\n",
    "df_ch = pd.DataFrame(no_ch, columns =['Children'])\n",
    "df_ch"
   ]
  },
  {
   "cell_type": "markdown",
   "id": "ee9daed7",
   "metadata": {},
   "source": [
    "### Incidence - percentage of population with private health insurance"
   ]
  },
  {
   "cell_type": "markdown",
   "id": "f47647d1",
   "metadata": {},
   "source": [
    "The survey shows that 53% of population has purchased private helth insurance in 2021 and 47% did not.\n",
    "\n",
    "- 53% Yes \n",
    "- 47% No"
   ]
  },
  {
   "cell_type": "markdown",
   "id": "0735469c",
   "metadata": {},
   "source": [
    "The Incidence variable is a categorical data type, the same as the Gender variable, described above."
   ]
  },
  {
   "cell_type": "code",
   "execution_count": 18,
   "id": "08d84d1e",
   "metadata": {},
   "outputs": [
    {
     "name": "stdout",
     "output_type": "stream",
     "text": [
      "Incidence set: ['Yes' 'No' 'No' 'No' 'Yes' 'Yes' 'Yes' 'Yes' 'Yes' 'Yes' 'Yes' 'No' 'No'\n",
      " 'No' 'Yes' 'No' 'Yes' 'No' 'No' 'Yes' 'Yes' 'No' 'Yes' 'No' 'Yes' 'No'\n",
      " 'No' 'No' 'Yes' 'No' 'Yes' 'No' 'No' 'Yes' 'No' 'Yes' 'Yes' 'No' 'No'\n",
      " 'No' 'No' 'No' 'Yes' 'Yes' 'Yes' 'Yes' 'Yes' 'Yes' 'Yes' 'No' 'No' 'Yes'\n",
      " 'No' 'No' 'Yes' 'No' 'Yes' 'No' 'No' 'Yes' 'No' 'No' 'No' 'Yes' 'Yes'\n",
      " 'Yes' 'No' 'Yes' 'No' 'Yes' 'No' 'Yes' 'Yes' 'No' 'Yes' 'No' 'No' 'No'\n",
      " 'Yes' 'Yes' 'Yes' 'No' 'Yes' 'No' 'Yes' 'Yes' 'Yes' 'Yes' 'Yes' 'No' 'No'\n",
      " 'Yes' 'No' 'Yes' 'Yes' 'No' 'Yes' 'No' 'No' 'No' 'No' 'Yes' 'No' 'No'\n",
      " 'Yes' 'Yes' 'No' 'No' 'Yes' 'Yes' 'Yes' 'Yes' 'No' 'No' 'No' 'No' 'Yes'\n",
      " 'Yes' 'Yes' 'No' 'No' 'No' 'No' 'Yes' 'No' 'Yes' 'Yes' 'Yes' 'Yes' 'No'\n",
      " 'Yes' 'No' 'Yes' 'Yes' 'Yes' 'Yes' 'No' 'Yes' 'No' 'Yes' 'Yes' 'Yes' 'No'\n",
      " 'No' 'Yes' 'Yes' 'Yes' 'Yes' 'No' 'Yes' 'No' 'No' 'Yes' 'No' 'No' 'Yes'\n",
      " 'No' 'Yes' 'Yes' 'Yes' 'Yes' 'No' 'Yes' 'Yes' 'Yes' 'No' 'Yes' 'No' 'No'\n",
      " 'Yes' 'No' 'No' 'Yes' 'Yes' 'Yes' 'Yes' 'Yes' 'Yes' 'Yes' 'Yes' 'Yes'\n",
      " 'No' 'Yes' 'No' 'No' 'Yes' 'Yes' 'Yes' 'No' 'Yes' 'No' 'No' 'No' 'Yes'\n",
      " 'No' 'Yes' 'No' 'Yes' 'Yes' 'No' 'No' 'No' 'No' 'Yes' 'No' 'No' 'Yes'\n",
      " 'Yes' 'Yes' 'No' 'Yes' 'No' 'Yes' 'No' 'No' 'No' 'No' 'Yes' 'No' 'Yes'\n",
      " 'No' 'Yes' 'Yes' 'Yes' 'No' 'Yes' 'Yes' 'Yes' 'No' 'Yes' 'No' 'Yes' 'No'\n",
      " 'Yes' 'No' 'Yes' 'No' 'No' 'Yes' 'No' 'No' 'No' 'No' 'No' 'Yes' 'Yes'\n",
      " 'Yes' 'Yes' 'Yes' 'No' 'No' 'Yes' 'No' 'Yes' 'Yes' 'Yes' 'No' 'No' 'Yes'\n",
      " 'No' 'No' 'Yes' 'Yes' 'Yes' 'Yes' 'No' 'No' 'Yes' 'No' 'No' 'Yes' 'No'\n",
      " 'No' 'No' 'No' 'Yes' 'Yes' 'Yes' 'No' 'Yes' 'Yes' 'No' 'Yes' 'No' 'No'\n",
      " 'No' 'Yes' 'No' 'Yes' 'No' 'Yes' 'Yes' 'Yes' 'No' 'No' 'Yes' 'No' 'No'\n",
      " 'Yes' 'Yes']\n"
     ]
    }
   ],
   "source": [
    "# Generate incidence list \n",
    "inc = [\"Yes\", \"No\"]\n",
    "p = [0.53, 0.47]\n",
    "\n",
    "inc = rng.choice(inc, size = size, p = p)\n",
    "# print(inc)\n",
    "\n",
    "print(\"Incidence set:\", inc)"
   ]
  },
  {
   "cell_type": "code",
   "execution_count": 19,
   "id": "f8c87afe",
   "metadata": {},
   "outputs": [
    {
     "name": "stdout",
     "output_type": "stream",
     "text": [
      "[['No' 'Yes']\n",
      " ['142' '158']]\n"
     ]
    }
   ],
   "source": [
    "# Find unique elements of the list and count the number of times they appear in list\n",
    "unique_inc, counts_inc = np.unique(inc, return_counts=True)\n",
    "print(np.asarray((unique_inc, counts_inc)))"
   ]
  },
  {
   "cell_type": "code",
   "execution_count": 20,
   "id": "c15187a2",
   "metadata": {},
   "outputs": [
    {
     "data": {
      "image/png": "[encoded data removed]",
      "text/plain": [
       "<Figure size 640x480 with 1 Axes>"
      ]
     },
     "metadata": {},
     "output_type": "display_data"
    }
   ],
   "source": [
    "# Use pie chart to visualize the ditribution of this variable\n",
    "\n",
    "plt.pie(counts_inc, labels=unique_inc, startangle = 90)\n",
    "plt.title(\"Incidence of Health Insurance\")\n",
    "plt.legend()\n",
    "plt.show()"
   ]
  },
  {
   "cell_type": "code",
   "execution_count": 21,
   "id": "ee911396",
   "metadata": {},
   "outputs": [
    {
     "data": {
      "text/html": [
       "<div>\n",
       "<style scoped>\n",
       "    .dataframe tbody tr th:only-of-type {\n",
       "        vertical-align: middle;\n",
       "    }\n",
       "\n",
       "    .dataframe tbody tr th {\n",
       "        vertical-align: top;\n",
       "    }\n",
       "\n",
       "    .dataframe thead th {\n",
       "        text-align: right;\n",
       "    }\n",
       "</style>\n",
       "<table border=\"1\" class=\"dataframe\">\n",
       "  <thead>\n",
       "    <tr style=\"text-align: right;\">\n",
       "      <th></th>\n",
       "      <th>Incidence</th>\n",
       "    </tr>\n",
       "  </thead>\n",
       "  <tbody>\n",
       "    <tr>\n",
       "      <th>0</th>\n",
       "      <td>Yes</td>\n",
       "    </tr>\n",
       "    <tr>\n",
       "      <th>1</th>\n",
       "      <td>No</td>\n",
       "    </tr>\n",
       "    <tr>\n",
       "      <th>2</th>\n",
       "      <td>No</td>\n",
       "    </tr>\n",
       "    <tr>\n",
       "      <th>3</th>\n",
       "      <td>No</td>\n",
       "    </tr>\n",
       "    <tr>\n",
       "      <th>4</th>\n",
       "      <td>Yes</td>\n",
       "    </tr>\n",
       "    <tr>\n",
       "      <th>...</th>\n",
       "      <td>...</td>\n",
       "    </tr>\n",
       "    <tr>\n",
       "      <th>295</th>\n",
       "      <td>Yes</td>\n",
       "    </tr>\n",
       "    <tr>\n",
       "      <th>296</th>\n",
       "      <td>No</td>\n",
       "    </tr>\n",
       "    <tr>\n",
       "      <th>297</th>\n",
       "      <td>No</td>\n",
       "    </tr>\n",
       "    <tr>\n",
       "      <th>298</th>\n",
       "      <td>Yes</td>\n",
       "    </tr>\n",
       "    <tr>\n",
       "      <th>299</th>\n",
       "      <td>Yes</td>\n",
       "    </tr>\n",
       "  </tbody>\n",
       "</table>\n",
       "<p>300 rows × 1 columns</p>\n",
       "</div>"
      ],
      "text/plain": [
       "    Incidence\n",
       "0         Yes\n",
       "1          No\n",
       "2          No\n",
       "3          No\n",
       "4         Yes\n",
       "..        ...\n",
       "295       Yes\n",
       "296        No\n",
       "297        No\n",
       "298       Yes\n",
       "299       Yes\n",
       "\n",
       "[300 rows x 1 columns]"
      ]
     },
     "execution_count": 21,
     "metadata": {},
     "output_type": "execute_result"
    }
   ],
   "source": [
    "# Create the dataframe from the random set generated above\n",
    "df_inc = pd.DataFrame(inc, columns =['Incidence'])\n",
    "df_inc"
   ]
  },
  {
   "cell_type": "markdown",
   "id": "2f5b5033",
   "metadata": {},
   "source": [
    "### 3. Creating the Dataset"
   ]
  },
  {
   "cell_type": "code",
   "execution_count": 22,
   "id": "37519e8c",
   "metadata": {},
   "outputs": [
    {
     "data": {
      "text/html": [
       "<div>\n",
       "<style scoped>\n",
       "    .dataframe tbody tr th:only-of-type {\n",
       "        vertical-align: middle;\n",
       "    }\n",
       "\n",
       "    .dataframe tbody tr th {\n",
       "        vertical-align: top;\n",
       "    }\n",
       "\n",
       "    .dataframe thead th {\n",
       "        text-align: right;\n",
       "    }\n",
       "</style>\n",
       "<table border=\"1\" class=\"dataframe\">\n",
       "  <thead>\n",
       "    <tr style=\"text-align: right;\">\n",
       "      <th></th>\n",
       "      <th>Gender</th>\n",
       "      <th>Age</th>\n",
       "      <th>Incidence</th>\n",
       "      <th>Social class</th>\n",
       "      <th>Children</th>\n",
       "    </tr>\n",
       "  </thead>\n",
       "  <tbody>\n",
       "    <tr>\n",
       "      <th>0</th>\n",
       "      <td>Male</td>\n",
       "      <td>65+</td>\n",
       "      <td>Yes</td>\n",
       "      <td>C2DE</td>\n",
       "      <td>Two or more</td>\n",
       "    </tr>\n",
       "    <tr>\n",
       "      <th>1</th>\n",
       "      <td>Male</td>\n",
       "      <td>25-34</td>\n",
       "      <td>No</td>\n",
       "      <td>ABC1</td>\n",
       "      <td>None</td>\n",
       "    </tr>\n",
       "    <tr>\n",
       "      <th>2</th>\n",
       "      <td>Female</td>\n",
       "      <td>45-64</td>\n",
       "      <td>No</td>\n",
       "      <td>ABC1</td>\n",
       "      <td>One child</td>\n",
       "    </tr>\n",
       "    <tr>\n",
       "      <th>3</th>\n",
       "      <td>Female</td>\n",
       "      <td>45-64</td>\n",
       "      <td>No</td>\n",
       "      <td>ABC1</td>\n",
       "      <td>Two or more</td>\n",
       "    </tr>\n",
       "    <tr>\n",
       "      <th>4</th>\n",
       "      <td>Male</td>\n",
       "      <td>45-64</td>\n",
       "      <td>Yes</td>\n",
       "      <td>ABC1</td>\n",
       "      <td>None</td>\n",
       "    </tr>\n",
       "    <tr>\n",
       "      <th>...</th>\n",
       "      <td>...</td>\n",
       "      <td>...</td>\n",
       "      <td>...</td>\n",
       "      <td>...</td>\n",
       "      <td>...</td>\n",
       "    </tr>\n",
       "    <tr>\n",
       "      <th>295</th>\n",
       "      <td>Female</td>\n",
       "      <td>45-64</td>\n",
       "      <td>Yes</td>\n",
       "      <td>C2DE</td>\n",
       "      <td>None</td>\n",
       "    </tr>\n",
       "    <tr>\n",
       "      <th>296</th>\n",
       "      <td>Male</td>\n",
       "      <td>45-64</td>\n",
       "      <td>No</td>\n",
       "      <td>C2DE</td>\n",
       "      <td>None</td>\n",
       "    </tr>\n",
       "    <tr>\n",
       "      <th>297</th>\n",
       "      <td>Male</td>\n",
       "      <td>25-34</td>\n",
       "      <td>No</td>\n",
       "      <td>F</td>\n",
       "      <td>None</td>\n",
       "    </tr>\n",
       "    <tr>\n",
       "      <th>298</th>\n",
       "      <td>Female</td>\n",
       "      <td>25-34</td>\n",
       "      <td>Yes</td>\n",
       "      <td>C2DE</td>\n",
       "      <td>None</td>\n",
       "    </tr>\n",
       "    <tr>\n",
       "      <th>299</th>\n",
       "      <td>Male</td>\n",
       "      <td>65+</td>\n",
       "      <td>Yes</td>\n",
       "      <td>C2DE</td>\n",
       "      <td>One child</td>\n",
       "    </tr>\n",
       "  </tbody>\n",
       "</table>\n",
       "<p>300 rows × 5 columns</p>\n",
       "</div>"
      ],
      "text/plain": [
       "     Gender    Age Incidence Social class     Children\n",
       "0      Male    65+       Yes         C2DE  Two or more\n",
       "1      Male  25-34        No         ABC1         None\n",
       "2    Female  45-64        No         ABC1    One child\n",
       "3    Female  45-64        No         ABC1  Two or more\n",
       "4      Male  45-64       Yes         ABC1         None\n",
       "..      ...    ...       ...          ...          ...\n",
       "295  Female  45-64       Yes         C2DE         None\n",
       "296    Male  45-64        No         C2DE         None\n",
       "297    Male  25-34        No            F         None\n",
       "298  Female  25-34       Yes         C2DE         None\n",
       "299    Male    65+       Yes         C2DE    One child\n",
       "\n",
       "[300 rows x 5 columns]"
      ]
     },
     "execution_count": 22,
     "metadata": {},
     "output_type": "execute_result"
    }
   ],
   "source": [
    "# create dataframe using dictionary of lists\n",
    "dict_phi = {'Gender': gender, 'Age': age_gr, 'Incidence': inc, 'Social class': sc, 'Children': no_ch}\n",
    "df_main = pd.DataFrame(dict_phi)\n",
    "df_main"
   ]
  },
  {
   "cell_type": "markdown",
   "id": "52752cbf",
   "metadata": {},
   "source": [
    "### 4. Statistics\n",
    "- Call first 5 rows of the dataset"
   ]
  },
  {
   "cell_type": "code",
   "execution_count": 23,
   "id": "1c0f2f6b",
   "metadata": {},
   "outputs": [
    {
     "data": {
      "text/html": [
       "<div>\n",
       "<style scoped>\n",
       "    .dataframe tbody tr th:only-of-type {\n",
       "        vertical-align: middle;\n",
       "    }\n",
       "\n",
       "    .dataframe tbody tr th {\n",
       "        vertical-align: top;\n",
       "    }\n",
       "\n",
       "    .dataframe thead th {\n",
       "        text-align: right;\n",
       "    }\n",
       "</style>\n",
       "<table border=\"1\" class=\"dataframe\">\n",
       "  <thead>\n",
       "    <tr style=\"text-align: right;\">\n",
       "      <th></th>\n",
       "      <th>Gender</th>\n",
       "      <th>Age</th>\n",
       "      <th>Incidence</th>\n",
       "      <th>Social class</th>\n",
       "      <th>Children</th>\n",
       "    </tr>\n",
       "  </thead>\n",
       "  <tbody>\n",
       "    <tr>\n",
       "      <th>0</th>\n",
       "      <td>Male</td>\n",
       "      <td>65+</td>\n",
       "      <td>Yes</td>\n",
       "      <td>C2DE</td>\n",
       "      <td>Two or more</td>\n",
       "    </tr>\n",
       "    <tr>\n",
       "      <th>1</th>\n",
       "      <td>Male</td>\n",
       "      <td>25-34</td>\n",
       "      <td>No</td>\n",
       "      <td>ABC1</td>\n",
       "      <td>None</td>\n",
       "    </tr>\n",
       "    <tr>\n",
       "      <th>2</th>\n",
       "      <td>Female</td>\n",
       "      <td>45-64</td>\n",
       "      <td>No</td>\n",
       "      <td>ABC1</td>\n",
       "      <td>One child</td>\n",
       "    </tr>\n",
       "    <tr>\n",
       "      <th>3</th>\n",
       "      <td>Female</td>\n",
       "      <td>45-64</td>\n",
       "      <td>No</td>\n",
       "      <td>ABC1</td>\n",
       "      <td>Two or more</td>\n",
       "    </tr>\n",
       "    <tr>\n",
       "      <th>4</th>\n",
       "      <td>Male</td>\n",
       "      <td>45-64</td>\n",
       "      <td>Yes</td>\n",
       "      <td>ABC1</td>\n",
       "      <td>None</td>\n",
       "    </tr>\n",
       "  </tbody>\n",
       "</table>\n",
       "</div>"
      ],
      "text/plain": [
       "   Gender    Age Incidence Social class     Children\n",
       "0    Male    65+       Yes         C2DE  Two or more\n",
       "1    Male  25-34        No         ABC1         None\n",
       "2  Female  45-64        No         ABC1    One child\n",
       "3  Female  45-64        No         ABC1  Two or more\n",
       "4    Male  45-64       Yes         ABC1         None"
      ]
     },
     "execution_count": 23,
     "metadata": {},
     "output_type": "execute_result"
    }
   ],
   "source": [
    "df_main.head()"
   ]
  },
  {
   "cell_type": "markdown",
   "id": "38923728",
   "metadata": {},
   "source": [
    "- Call last 5 rows of the dataset"
   ]
  },
  {
   "cell_type": "code",
   "execution_count": 24,
   "id": "76146290",
   "metadata": {},
   "outputs": [
    {
     "data": {
      "text/html": [
       "<div>\n",
       "<style scoped>\n",
       "    .dataframe tbody tr th:only-of-type {\n",
       "        vertical-align: middle;\n",
       "    }\n",
       "\n",
       "    .dataframe tbody tr th {\n",
       "        vertical-align: top;\n",
       "    }\n",
       "\n",
       "    .dataframe thead th {\n",
       "        text-align: right;\n",
       "    }\n",
       "</style>\n",
       "<table border=\"1\" class=\"dataframe\">\n",
       "  <thead>\n",
       "    <tr style=\"text-align: right;\">\n",
       "      <th></th>\n",
       "      <th>Gender</th>\n",
       "      <th>Age</th>\n",
       "      <th>Incidence</th>\n",
       "      <th>Social class</th>\n",
       "      <th>Children</th>\n",
       "    </tr>\n",
       "  </thead>\n",
       "  <tbody>\n",
       "    <tr>\n",
       "      <th>295</th>\n",
       "      <td>Female</td>\n",
       "      <td>45-64</td>\n",
       "      <td>Yes</td>\n",
       "      <td>C2DE</td>\n",
       "      <td>None</td>\n",
       "    </tr>\n",
       "    <tr>\n",
       "      <th>296</th>\n",
       "      <td>Male</td>\n",
       "      <td>45-64</td>\n",
       "      <td>No</td>\n",
       "      <td>C2DE</td>\n",
       "      <td>None</td>\n",
       "    </tr>\n",
       "    <tr>\n",
       "      <th>297</th>\n",
       "      <td>Male</td>\n",
       "      <td>25-34</td>\n",
       "      <td>No</td>\n",
       "      <td>F</td>\n",
       "      <td>None</td>\n",
       "    </tr>\n",
       "    <tr>\n",
       "      <th>298</th>\n",
       "      <td>Female</td>\n",
       "      <td>25-34</td>\n",
       "      <td>Yes</td>\n",
       "      <td>C2DE</td>\n",
       "      <td>None</td>\n",
       "    </tr>\n",
       "    <tr>\n",
       "      <th>299</th>\n",
       "      <td>Male</td>\n",
       "      <td>65+</td>\n",
       "      <td>Yes</td>\n",
       "      <td>C2DE</td>\n",
       "      <td>One child</td>\n",
       "    </tr>\n",
       "  </tbody>\n",
       "</table>\n",
       "</div>"
      ],
      "text/plain": [
       "     Gender    Age Incidence Social class   Children\n",
       "295  Female  45-64       Yes         C2DE       None\n",
       "296    Male  45-64        No         C2DE       None\n",
       "297    Male  25-34        No            F       None\n",
       "298  Female  25-34       Yes         C2DE       None\n",
       "299    Male    65+       Yes         C2DE  One child"
      ]
     },
     "execution_count": 24,
     "metadata": {},
     "output_type": "execute_result"
    }
   ],
   "source": [
    "df_main.tail()"
   ]
  },
  {
   "cell_type": "markdown",
   "id": "e3e754aa",
   "metadata": {},
   "source": [
    "- Generate and display a summary statistics of the dataset"
   ]
  },
  {
   "cell_type": "code",
   "execution_count": 25,
   "id": "101e175e",
   "metadata": {},
   "outputs": [
    {
     "data": {
      "text/html": [
       "<div>\n",
       "<style scoped>\n",
       "    .dataframe tbody tr th:only-of-type {\n",
       "        vertical-align: middle;\n",
       "    }\n",
       "\n",
       "    .dataframe tbody tr th {\n",
       "        vertical-align: top;\n",
       "    }\n",
       "\n",
       "    .dataframe thead th {\n",
       "        text-align: right;\n",
       "    }\n",
       "</style>\n",
       "<table border=\"1\" class=\"dataframe\">\n",
       "  <thead>\n",
       "    <tr style=\"text-align: right;\">\n",
       "      <th></th>\n",
       "      <th>Gender</th>\n",
       "      <th>Age</th>\n",
       "      <th>Incidence</th>\n",
       "      <th>Social class</th>\n",
       "      <th>Children</th>\n",
       "    </tr>\n",
       "  </thead>\n",
       "  <tbody>\n",
       "    <tr>\n",
       "      <th>count</th>\n",
       "      <td>300</td>\n",
       "      <td>300</td>\n",
       "      <td>300</td>\n",
       "      <td>300</td>\n",
       "      <td>300</td>\n",
       "    </tr>\n",
       "    <tr>\n",
       "      <th>unique</th>\n",
       "      <td>2</td>\n",
       "      <td>4</td>\n",
       "      <td>2</td>\n",
       "      <td>3</td>\n",
       "      <td>3</td>\n",
       "    </tr>\n",
       "    <tr>\n",
       "      <th>top</th>\n",
       "      <td>Male</td>\n",
       "      <td>25-34</td>\n",
       "      <td>Yes</td>\n",
       "      <td>ABC1</td>\n",
       "      <td>None</td>\n",
       "    </tr>\n",
       "    <tr>\n",
       "      <th>freq</th>\n",
       "      <td>157</td>\n",
       "      <td>111</td>\n",
       "      <td>158</td>\n",
       "      <td>175</td>\n",
       "      <td>209</td>\n",
       "    </tr>\n",
       "  </tbody>\n",
       "</table>\n",
       "</div>"
      ],
      "text/plain": [
       "       Gender    Age Incidence Social class Children\n",
       "count     300    300       300          300      300\n",
       "unique      2      4         2            3        3\n",
       "top      Male  25-34       Yes         ABC1     None\n",
       "freq      157    111       158          175      209"
      ]
     },
     "execution_count": 25,
     "metadata": {},
     "output_type": "execute_result"
    }
   ],
   "source": [
    "df_main.describe()"
   ]
  },
  {
   "cell_type": "markdown",
   "id": "4d265253",
   "metadata": {},
   "source": [
    "### Analysing the data set \n",
    "\n",
    "The above statistics shows the number of counts for the simulated dataset together with the list of all variables used in the analysys. \n",
    "\n",
    "It also provide information on the variable unique, top and fequency. "
   ]
  },
  {
   "cell_type": "markdown",
   "id": "a3742e34",
   "metadata": {},
   "source": [
    "- ### Incidence\n",
    "\n",
    "I believe it is intersting to analyse the Incidence of private health insurace in Ireland and the profile of people purcahing it.\n",
    "\n",
    "We can investige in detail data of this variable and its corelation with other variables with the help of python"
   ]
  },
  {
   "cell_type": "code",
   "execution_count": 26,
   "id": "d68eaeab",
   "metadata": {
    "scrolled": true
   },
   "outputs": [
    {
     "data": {
      "text/html": [
       "<div>\n",
       "<style scoped>\n",
       "    .dataframe tbody tr th:only-of-type {\n",
       "        vertical-align: middle;\n",
       "    }\n",
       "\n",
       "    .dataframe tbody tr th {\n",
       "        vertical-align: top;\n",
       "    }\n",
       "\n",
       "    .dataframe thead tr th {\n",
       "        text-align: left;\n",
       "    }\n",
       "\n",
       "    .dataframe thead tr:last-of-type th {\n",
       "        text-align: right;\n",
       "    }\n",
       "</style>\n",
       "<table border=\"1\" class=\"dataframe\">\n",
       "  <thead>\n",
       "    <tr>\n",
       "      <th></th>\n",
       "      <th colspan=\"4\" halign=\"left\">Gender</th>\n",
       "      <th colspan=\"4\" halign=\"left\">Age</th>\n",
       "      <th colspan=\"4\" halign=\"left\">Social class</th>\n",
       "      <th colspan=\"4\" halign=\"left\">Children</th>\n",
       "    </tr>\n",
       "    <tr>\n",
       "      <th></th>\n",
       "      <th>count</th>\n",
       "      <th>unique</th>\n",
       "      <th>top</th>\n",
       "      <th>freq</th>\n",
       "      <th>count</th>\n",
       "      <th>unique</th>\n",
       "      <th>top</th>\n",
       "      <th>freq</th>\n",
       "      <th>count</th>\n",
       "      <th>unique</th>\n",
       "      <th>top</th>\n",
       "      <th>freq</th>\n",
       "      <th>count</th>\n",
       "      <th>unique</th>\n",
       "      <th>top</th>\n",
       "      <th>freq</th>\n",
       "    </tr>\n",
       "    <tr>\n",
       "      <th>Incidence</th>\n",
       "      <th></th>\n",
       "      <th></th>\n",
       "      <th></th>\n",
       "      <th></th>\n",
       "      <th></th>\n",
       "      <th></th>\n",
       "      <th></th>\n",
       "      <th></th>\n",
       "      <th></th>\n",
       "      <th></th>\n",
       "      <th></th>\n",
       "      <th></th>\n",
       "      <th></th>\n",
       "      <th></th>\n",
       "      <th></th>\n",
       "      <th></th>\n",
       "    </tr>\n",
       "  </thead>\n",
       "  <tbody>\n",
       "    <tr>\n",
       "      <th>No</th>\n",
       "      <td>142</td>\n",
       "      <td>2</td>\n",
       "      <td>Male</td>\n",
       "      <td>75</td>\n",
       "      <td>142</td>\n",
       "      <td>4</td>\n",
       "      <td>25-34</td>\n",
       "      <td>56</td>\n",
       "      <td>142</td>\n",
       "      <td>3</td>\n",
       "      <td>ABC1</td>\n",
       "      <td>80</td>\n",
       "      <td>142</td>\n",
       "      <td>3</td>\n",
       "      <td>None</td>\n",
       "      <td>102</td>\n",
       "    </tr>\n",
       "    <tr>\n",
       "      <th>Yes</th>\n",
       "      <td>158</td>\n",
       "      <td>2</td>\n",
       "      <td>Male</td>\n",
       "      <td>82</td>\n",
       "      <td>158</td>\n",
       "      <td>4</td>\n",
       "      <td>25-34</td>\n",
       "      <td>55</td>\n",
       "      <td>158</td>\n",
       "      <td>3</td>\n",
       "      <td>ABC1</td>\n",
       "      <td>95</td>\n",
       "      <td>158</td>\n",
       "      <td>3</td>\n",
       "      <td>None</td>\n",
       "      <td>107</td>\n",
       "    </tr>\n",
       "  </tbody>\n",
       "</table>\n",
       "</div>"
      ],
      "text/plain": [
       "          Gender                     Age                    Social class  \\\n",
       "           count unique   top freq count unique    top freq        count   \n",
       "Incidence                                                                  \n",
       "No           142      2  Male   75   142      4  25-34   56          142   \n",
       "Yes          158      2  Male   82   158      4  25-34   55          158   \n",
       "\n",
       "                            Children                    \n",
       "          unique   top freq    count unique   top freq  \n",
       "Incidence                                               \n",
       "No             3  ABC1   80      142      3  None  102  \n",
       "Yes            3  ABC1   95      158      3  None  107  "
      ]
     },
     "execution_count": 26,
     "metadata": {},
     "output_type": "execute_result"
    }
   ],
   "source": [
    "# use groupby function\n",
    "incidence = df_main.groupby('Incidence')\n",
    "incidence.describe()"
   ]
  },
  {
   "cell_type": "markdown",
   "id": "12af9293",
   "metadata": {},
   "source": [
    "By looking at the above figures we can get an idea of the scale of people purcahing health insurace, and how is distributed within Age group, Social Class and Gender. It also shows the number of children covered by private health insurance in Ireland.\n",
    "\n",
    "To visualize better the informaton, seaborn module offers great plot otions"
   ]
  },
  {
   "cell_type": "code",
   "execution_count": 27,
   "id": "638f6c0a",
   "metadata": {},
   "outputs": [
    {
     "data": {
      "image/png": "[encoded data removed]",
      "text/plain": [
       "<Figure size 640x480 with 1 Axes>"
      ]
     },
     "metadata": {},
     "output_type": "display_data"
    }
   ],
   "source": [
    "# sns.set(style=\"darkgrid\")\n",
    "sns.countplot(x = 'Incidence', data=df_main)\n",
    "plt.show()"
   ]
  },
  {
   "cell_type": "markdown",
   "id": "d4fcd135",
   "metadata": {},
   "source": [
    "Aproximattely half of the population in Ireland are covered with private health insurance \n",
    "\n",
    "\n",
    "#### - Incidence of health insurance within Social classes"
   ]
  },
  {
   "cell_type": "code",
   "execution_count": 28,
   "id": "f8e1266b",
   "metadata": {
    "scrolled": false
   },
   "outputs": [
    {
     "data": {
      "image/png": "[encoded data removed]",
      "text/plain": [
       "<Figure size 640x480 with 1 Axes>"
      ]
     },
     "metadata": {},
     "output_type": "display_data"
    }
   ],
   "source": [
    "#sns.set(style=\"darkgrid\")\n",
    "sns.countplot(x = 'Incidence', hue = 'Social class', data=df_main)\n",
    "plt.show()"
   ]
  },
  {
   "cell_type": "markdown",
   "id": "3f62fbdf",
   "metadata": {},
   "source": [
    "- ### Age group\n",
    "\n",
    "Age group is another interesting variable to be analysed as it is quite notorious younger people don't ususally purchase health insurance"
   ]
  },
  {
   "cell_type": "code",
   "execution_count": 29,
   "id": "86c5856b",
   "metadata": {},
   "outputs": [
    {
     "data": {
      "image/png": "[encoded data removed]",
      "text/plain": [
       "<Figure size 640x480 with 1 Axes>"
      ]
     },
     "metadata": {},
     "output_type": "display_data"
    }
   ],
   "source": [
    "# sns.set(style=\"darkgrid\")\n",
    "sns.countplot(x = 'Age', data=df_main)\n",
    "plt.show()"
   ]
  },
  {
   "cell_type": "markdown",
   "id": "71dbfcda",
   "metadata": {},
   "source": [
    "It can be noticed that the younger population has the lowest number of private health insurance policies"
   ]
  },
  {
   "cell_type": "markdown",
   "id": "a803b674",
   "metadata": {},
   "source": [
    "We can analyse the Age group against other variables for example Social Class\n",
    "\n",
    "#### - Age group and Social class"
   ]
  },
  {
   "cell_type": "code",
   "execution_count": 30,
   "id": "6a401526",
   "metadata": {},
   "outputs": [
    {
     "data": {
      "image/png": "[encoded data removed]",
      "text/plain": [
       "<Figure size 640x480 with 1 Axes>"
      ]
     },
     "metadata": {},
     "output_type": "display_data"
    }
   ],
   "source": [
    "sns.countplot(x = 'Age', hue='Social class', data=df_main)\n",
    "plt.show()"
   ]
  },
  {
   "cell_type": "markdown",
   "id": "5ac6479b",
   "metadata": {},
   "source": [
    "- ### Social Class\n",
    "\n",
    "Analysing helath insurance penetration within Social classes"
   ]
  },
  {
   "cell_type": "code",
   "execution_count": 31,
   "id": "d244586c",
   "metadata": {},
   "outputs": [
    {
     "data": {
      "image/png": "[encoded data removed]",
      "text/plain": [
       "<Figure size 640x480 with 1 Axes>"
      ]
     },
     "metadata": {},
     "output_type": "display_data"
    }
   ],
   "source": [
    "sns.countplot(x = 'Social class', data=df_main)\n",
    "plt.show()"
   ]
  },
  {
   "cell_type": "markdown",
   "id": "b7e148cc",
   "metadata": {},
   "source": [
    "Can be observed the majority of people with private health insurance are from middle and upper class\n",
    "\n",
    "#### - Social classes and number of children per policy"
   ]
  },
  {
   "cell_type": "code",
   "execution_count": 32,
   "id": "75c844b7",
   "metadata": {},
   "outputs": [
    {
     "data": {
      "image/png": "[encoded data removed]",
      "text/plain": [
       "<Figure size 640x480 with 1 Axes>"
      ]
     },
     "metadata": {},
     "output_type": "display_data"
    }
   ],
   "source": [
    "sns.countplot(x = 'Social class', hue = 'Children', data=df_main)\n",
    "plt.show()"
   ]
  },
  {
   "cell_type": "markdown",
   "id": "1035d0b7",
   "metadata": {},
   "source": [
    "Can be observed the same trend on all social classes that most policies have no children\n",
    "\n",
    "- #### Number of children per policy"
   ]
  },
  {
   "cell_type": "code",
   "execution_count": 33,
   "id": "486e934e",
   "metadata": {},
   "outputs": [
    {
     "data": {
      "image/png": "[encoded data removed]",
      "text/plain": [
       "<Figure size 640x480 with 1 Axes>"
      ]
     },
     "metadata": {},
     "output_type": "display_data"
    }
   ],
   "source": [
    "sns.countplot(x = 'Children', data=df_main)\n",
    "plt.show()"
   ]
  },
  {
   "cell_type": "markdown",
   "id": "6ba382cc",
   "metadata": {},
   "source": [
    "Interestingly most of the policies have no children covered"
   ]
  },
  {
   "cell_type": "markdown",
   "id": "bb515f0c",
   "metadata": {},
   "source": [
    "- ### Gender\n",
    "\n",
    "Analysing Gender distribution in private health insurance"
   ]
  },
  {
   "cell_type": "code",
   "execution_count": 34,
   "id": "7806eba9",
   "metadata": {},
   "outputs": [
    {
     "data": {
      "image/png": "[encoded data removed]",
      "text/plain": [
       "<Figure size 640x480 with 1 Axes>"
      ]
     },
     "metadata": {},
     "output_type": "display_data"
    }
   ],
   "source": [
    "sns.countplot(x = 'Gender', data=df_main)\n",
    "plt.show()"
   ]
  },
  {
   "cell_type": "markdown",
   "id": "d059817e",
   "metadata": {},
   "source": [
    "Unsurprisingly, the number of females with private health insurance is similar with the number of males.\n",
    "\n",
    "#### - Gender and social class"
   ]
  },
  {
   "cell_type": "code",
   "execution_count": 35,
   "id": "cc1a00a2",
   "metadata": {},
   "outputs": [
    {
     "data": {
      "image/png": "[encoded data removed]",
      "text/plain": [
       "<Figure size 640x480 with 1 Axes>"
      ]
     },
     "metadata": {},
     "output_type": "display_data"
    }
   ],
   "source": [
    "sns.countplot(x = 'Gender', hue = 'Social class', data=df_main)\n",
    "plt.show()"
   ]
  },
  {
   "cell_type": "markdown",
   "id": "56f2b076",
   "metadata": {},
   "source": [
    "Can be noticed similar distribution of female and male with private health insurance among all social classes"
   ]
  },
  {
   "cell_type": "markdown",
   "id": "cfa60ba0",
   "metadata": {},
   "source": [
    "### 4. References\n",
    "\n",
    "- https://www.hia.ie/sites/default/files/Health%20Insurance%20Authority%20Kantar%20Report%202021%20Jan%202022%20Final.pdf\n",
    "\n",
    "\n",
    "- https://www.hia.ie/publication/consumer-surveys\n",
    "\n",
    "\n",
    "- https://pandas.pydata.org/docs/user_guide/index.html#user-guide\n",
    "\n",
    "\n",
    "- https://numpy.org/doc/stable/reference/random/generator.html\n",
    "\n",
    "\n",
    "- https://seaborn.pydata.org/generated/seaborn.countplot.html\n",
    "\n",
    "\n",
    "- https://seaborn.pydata.org/generated/seaborn.barplot.html#seaborn.barplot\n",
    "\n",
    "\n",
    "- https://www.geeksforgeeks.org/create-a-pandas-dataframe-from-lists/\n",
    "\n",
    "\n",
    "- https://stackoverflow.com/questions/23246125/how-to-center-labels-in-histogram-plot\n",
    "\n",
    "\n",
    "- https://pandas.pydata.org/docs/reference/api/pandas.DataFrame.describe.html\n",
    "\n",
    "\n",
    "- https://www.geeksforgeeks.org/countplot-using-seaborn-in-python/\n",
    "\n",
    "\n",
    "- https://numpy.org/devdocs/reference/generated/numpy.unique.html\n",
    "\n",
    "\n",
    "- https://www.freecodecamp.org/news/how-to-write-a-good-readme-file/\n",
    "\n",
    "\n",
    "- https://bulldogjob.com/readme/how-to-write-a-good-readme-for-your-github-project\n",
    "\n",
    "\n",
    "- https://docs.github.com/en/get-started/writing-on-github/getting-started-with-writing-and-formatting-on-github/basic-writing-and-formatting-syntax\n",
    "\n",
    "\n",
    "- https://www.mygreatlearning.com/blog/seaborn-tutorial/#count-plot\n",
    "\n"
   ]
  }
 ],
 "metadata": {
  "kernelspec": {
   "display_name": "Python 3 (ipykernel)",
   "language": "python",
   "name": "python3"
  },
  "language_info": {
   "codemirror_mode": {
    "name": "ipython",
    "version": 3
   },
   "file_extension": ".py",
   "mimetype": "text/x-python",
   "name": "python",
   "nbconvert_exporter": "python",
   "pygments_lexer": "ipython3",
   "version": "3.9.7"
  }
 },
 "nbformat": 4,
 "nbformat_minor": 5
}
