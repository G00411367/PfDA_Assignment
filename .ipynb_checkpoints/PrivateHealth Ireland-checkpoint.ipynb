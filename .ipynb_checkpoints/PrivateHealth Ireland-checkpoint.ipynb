{
 "cells": [
  {
   "cell_type": "markdown",
   "id": "58c25ef1",
   "metadata": {},
   "source": [
    "# Programming for Data Analysis Project"
   ]
  },
  {
   "cell_type": "markdown",
   "id": "4e0061a8",
   "metadata": {},
   "source": [
    "GG00411367 Ioan Domsa"
   ]
  },
  {
   "cell_type": "markdown",
   "id": "75decce7",
   "metadata": {},
   "source": [
    "The scope of this project is to create a synthetic dataset of a world phenomenon and investigate the modeled dataset using Python"
   ]
  },
  {
   "cell_type": "markdown",
   "id": "b93ee885",
   "metadata": {},
   "source": [
    "## Phenomenon"
   ]
  },
  {
   "cell_type": "markdown",
   "id": "ba759b4b",
   "metadata": {},
   "source": [
    "For this project I am investigating the Private Health Insurance in Ireland in 2021"
   ]
  },
  {
   "cell_type": "markdown",
   "id": "800cef0b",
   "metadata": {},
   "source": [
    "Ireland like all European countries offers public health to its citizens at a substantial reduced rate. \n",
    "Although Ireland's spend on healthcare per capita is among highest in Europe, Ireland has one of the fewest available hospital beds in the EU. Also, Ireland has one of the lowest amount of doctors per capita in Europe.\n",
    "These particularities together with other factors creates very long weitlists for public health.\n",
    "For this reason people choose to purchase private healt insurance but the price consideration is a great barrier."
   ]
  },
  {
   "cell_type": "markdown",
   "id": "b009bae1",
   "metadata": {},
   "source": [
    "## Variables"
   ]
  },
  {
   "cell_type": "markdown",
   "id": "5dcc175a",
   "metadata": {},
   "source": [
    "As health is the center of our lifes I believe it is interesting to understand the the extent of population in Ireland purchasing private health insurance and the profile of it. \n",
    "\n",
    "The project is analyzing the following variables:"
   ]
  },
  {
   "cell_type": "markdown",
   "id": "0349a288",
   "metadata": {},
   "source": [
    "- Gender Male/Female\n",
    "- Age group: 18-24, 25-44, 45-64, 65+\n",
    "- Social class: ABC1, C2DE, F\n",
    "- Average number of children per policy: 0, 1, 2+\n",
    "- Incidence of private health: Yes/No "
   ]
  },
  {
   "cell_type": "markdown",
   "id": "64c3389a",
   "metadata": {},
   "source": [
    "The dataset has a population of 1000"
   ]
  },
  {
   "cell_type": "markdown",
   "id": "41a8c9e1",
   "metadata": {},
   "source": [
    "## Importing python packages"
   ]
  },
  {
   "cell_type": "code",
   "execution_count": 1,
   "id": "6c579d2f",
   "metadata": {},
   "outputs": [],
   "source": [
    "import numpy as np\n",
    "import pandas as pd\n",
    "import matplotlib.pyplot as plt\n",
    "\n",
    "rng = np.random.default_rng()"
   ]
  },
  {
   "cell_type": "markdown",
   "id": "21df4a46",
   "metadata": {},
   "source": [
    "### Gender"
   ]
  },
  {
   "cell_type": "markdown",
   "id": "1fb786e1",
   "metadata": {},
   "source": [
    "Representation of gender of the population with private health insurance as per survey is:\n",
    "\n",
    "- 52% Male\n",
    "- 48% Female"
   ]
  },
  {
   "cell_type": "markdown",
   "id": "927dc86d",
   "metadata": {},
   "source": [
    "The gender variable follows a binomial distribution which is a common discrete distribustion.\n",
    "\n",
    "This distribution has only two possible outcomes and represents the probability for x successes in n trials, given a success probability p for each trial.\n",
    "\n",
    "An example of binomial distribution"
   ]
  },
  {
   "cell_type": "markdown",
   "id": "69a82c41",
   "metadata": {},
   "source": [
    "![Picture Binom](Images/Binomialexample.jpg)"
   ]
  },
  {
   "cell_type": "code",
   "execution_count": 2,
   "id": "c2c7d54d",
   "metadata": {
    "collapsed": true
   },
   "outputs": [
    {
     "data": {
      "text/plain": [
       "array(['Male', 'Male', 'Male', 'Male', 'Male', 'Female', 'Female', 'Male',\n",
       "       'Male', 'Male', 'Male', 'Female', 'Male', 'Male', 'Male', 'Female',\n",
       "       'Male', 'Male', 'Female', 'Female', 'Male', 'Male', 'Male', 'Male',\n",
       "       'Female', 'Male', 'Female', 'Male', 'Male', 'Male', 'Female',\n",
       "       'Male', 'Female', 'Female', 'Male', 'Female', 'Female', 'Male',\n",
       "       'Male', 'Female', 'Male', 'Male', 'Female', 'Female', 'Female',\n",
       "       'Female', 'Female', 'Female', 'Female', 'Male', 'Male', 'Male',\n",
       "       'Female', 'Female', 'Male', 'Female', 'Female', 'Male', 'Female',\n",
       "       'Female', 'Male', 'Female', 'Female', 'Male', 'Female', 'Female',\n",
       "       'Female', 'Male', 'Female', 'Male', 'Male', 'Female', 'Female',\n",
       "       'Male', 'Male', 'Male', 'Male', 'Male', 'Female', 'Female',\n",
       "       'Female', 'Female', 'Male', 'Female', 'Male', 'Female', 'Male',\n",
       "       'Male', 'Male', 'Male', 'Male', 'Female', 'Male', 'Female', 'Male',\n",
       "       'Male', 'Female', 'Male', 'Male', 'Male'], dtype='<U6')"
      ]
     },
     "execution_count": 2,
     "metadata": {},
     "output_type": "execute_result"
    }
   ],
   "source": [
    "# Generate gender list \n",
    "gen = [\"Male\", \"Female\"]\n",
    "size = 100\n",
    "p = [0.52, 0.48]\n",
    "\n",
    "gender = rng.choice(gen, size = size, p = p)\n",
    "# print(gender)\n",
    "gender"
   ]
  },
  {
   "cell_type": "code",
   "execution_count": 3,
   "id": "5e0b59a1",
   "metadata": {},
   "outputs": [
    {
     "data": {
      "text/plain": [
       "(array(['Female', 'Male'], dtype='<U6'), array([44, 56], dtype=int64))"
      ]
     },
     "execution_count": 3,
     "metadata": {},
     "output_type": "execute_result"
    }
   ],
   "source": [
    "# Find unique elements of the list and count the number of times they appear in list\n",
    "unique_elements = np.unique(gender, return_counts=True)\n",
    "unique_elements"
   ]
  },
  {
   "cell_type": "code",
   "execution_count": 4,
   "id": "5c84e88e",
   "metadata": {},
   "outputs": [
    {
     "name": "stdout",
     "output_type": "stream",
     "text": [
      "[['Female' 'Male']\n",
      " ['44' '56']]\n"
     ]
    }
   ],
   "source": [
    "print(np.asarray(unique_elements))"
   ]
  },
  {
   "cell_type": "code",
   "execution_count": 5,
   "id": "7f34162a",
   "metadata": {},
   "outputs": [
    {
     "data": {
      "image/png": "[encoded data removed]",
      "text/plain": [
       "<Figure size 432x288 with 1 Axes>"
      ]
     },
     "metadata": {
      "needs_background": "light"
     },
     "output_type": "display_data"
    }
   ],
   "source": [
    "plt.hist(gender)\n",
    "plt.xlabel(\"Gender\")\n",
    "plt.ylabel(\"Frequency\")\n",
    "plt.title(\"Gender representation of people with Health Insurance\")\n",
    "plt.show()"
   ]
  },
  {
   "cell_type": "code",
   "execution_count": 6,
   "id": "e7500748",
   "metadata": {
    "collapsed": true
   },
   "outputs": [
    {
     "data": {
      "text/html": [
       "<div>\n",
       "<style scoped>\n",
       "    .dataframe tbody tr th:only-of-type {\n",
       "        vertical-align: middle;\n",
       "    }\n",
       "\n",
       "    .dataframe tbody tr th {\n",
       "        vertical-align: top;\n",
       "    }\n",
       "\n",
       "    .dataframe thead th {\n",
       "        text-align: right;\n",
       "    }\n",
       "</style>\n",
       "<table border=\"1\" class=\"dataframe\">\n",
       "  <thead>\n",
       "    <tr style=\"text-align: right;\">\n",
       "      <th></th>\n",
       "      <th>Gender</th>\n",
       "    </tr>\n",
       "  </thead>\n",
       "  <tbody>\n",
       "    <tr>\n",
       "      <th>0</th>\n",
       "      <td>Male</td>\n",
       "    </tr>\n",
       "    <tr>\n",
       "      <th>1</th>\n",
       "      <td>Male</td>\n",
       "    </tr>\n",
       "    <tr>\n",
       "      <th>2</th>\n",
       "      <td>Male</td>\n",
       "    </tr>\n",
       "    <tr>\n",
       "      <th>3</th>\n",
       "      <td>Male</td>\n",
       "    </tr>\n",
       "    <tr>\n",
       "      <th>4</th>\n",
       "      <td>Male</td>\n",
       "    </tr>\n",
       "    <tr>\n",
       "      <th>...</th>\n",
       "      <td>...</td>\n",
       "    </tr>\n",
       "    <tr>\n",
       "      <th>95</th>\n",
       "      <td>Male</td>\n",
       "    </tr>\n",
       "    <tr>\n",
       "      <th>96</th>\n",
       "      <td>Female</td>\n",
       "    </tr>\n",
       "    <tr>\n",
       "      <th>97</th>\n",
       "      <td>Male</td>\n",
       "    </tr>\n",
       "    <tr>\n",
       "      <th>98</th>\n",
       "      <td>Male</td>\n",
       "    </tr>\n",
       "    <tr>\n",
       "      <th>99</th>\n",
       "      <td>Male</td>\n",
       "    </tr>\n",
       "  </tbody>\n",
       "</table>\n",
       "<p>100 rows × 1 columns</p>\n",
       "</div>"
      ],
      "text/plain": [
       "    Gender\n",
       "0     Male\n",
       "1     Male\n",
       "2     Male\n",
       "3     Male\n",
       "4     Male\n",
       "..     ...\n",
       "95    Male\n",
       "96  Female\n",
       "97    Male\n",
       "98    Male\n",
       "99    Male\n",
       "\n",
       "[100 rows x 1 columns]"
      ]
     },
     "execution_count": 6,
     "metadata": {},
     "output_type": "execute_result"
    }
   ],
   "source": [
    "# Create a dataframe from the random set generated above\n",
    "df_gender = pd.DataFrame(gender, columns =['Gender'])\n",
    "df_gender"
   ]
  },
  {
   "cell_type": "markdown",
   "id": "1f369dae",
   "metadata": {},
   "source": [
    "### Age group\n",
    "\n",
    "The survey shows following age group distribution for people who purchased private health insurance in Ireland in 2021:\n",
    "\n",
    "- 11% Age 18-24\n",
    "- 37% Age 25-34\n",
    "- 32% Age 45-64\n",
    "- 20% Age 65+"
   ]
  },
  {
   "cell_type": "code",
   "execution_count": 7,
   "id": "1179f693",
   "metadata": {
    "collapsed": true
   },
   "outputs": [
    {
     "name": "stdout",
     "output_type": "stream",
     "text": [
      "Age group set: ['45-64' '45-64' '65+' '18-24' '25-34' '25-34' '25-34' '25-34' '65+'\n",
      " '45-64' '45-64' '45-64' '18-24' '45-64' '45-64' '18-24' '45-64' '45-64'\n",
      " '18-24' '45-64' '45-64' '25-34' '45-64' '25-34' '65+' '25-34' '45-64'\n",
      " '65+' '45-64' '65+' '45-64' '45-64' '25-34' '45-64' '65+' '25-34' '25-34'\n",
      " '25-34' '45-64' '65+' '65+' '25-34' '65+' '45-64' '25-34' '45-64' '65+'\n",
      " '65+' '25-34' '25-34' '18-24' '25-34' '45-64' '65+' '25-34' '45-64'\n",
      " '45-64' '25-34' '45-64' '65+' '45-64' '65+' '45-64' '18-24' '25-34'\n",
      " '25-34' '65+' '65+' '25-34' '65+' '45-64' '65+' '18-24' '45-64' '45-64'\n",
      " '45-64' '18-24' '45-64' '25-34' '25-34' '45-64' '45-64' '45-64' '45-64'\n",
      " '45-64' '45-64' '18-24' '25-34' '25-34' '65+' '65+' '18-24' '65+' '18-24'\n",
      " '25-34' '25-34' '18-24' '45-64' '25-34' '65+']\n"
     ]
    }
   ],
   "source": [
    "# Generate the Age group \n",
    "age = [\"18-24\", \"25-34\", \"45-64\", \"65+\"]\n",
    "p = [0.11, 0.37, 0.32, 0.2]\n",
    "\n",
    "age_gr = rng.choice(age, size = size, p = p)\n",
    "print(\"Age group set:\", age_gr)"
   ]
  },
  {
   "cell_type": "code",
   "execution_count": 8,
   "id": "d1b8cc52",
   "metadata": {},
   "outputs": [
    {
     "name": "stdout",
     "output_type": "stream",
     "text": [
      "[['18-24' '25-34' '45-64' '65+']\n",
      " ['12' '28' '38' '22']]\n"
     ]
    }
   ],
   "source": [
    "# Find unique elements of the list and count the number of times they appear in list\n",
    "unique_elements, counts_elements = np.unique(age_gr, return_counts=True)\n",
    "print(np.asarray((unique_elements, counts_elements)))"
   ]
  },
  {
   "cell_type": "code",
   "execution_count": 9,
   "id": "d479d5d3",
   "metadata": {},
   "outputs": [
    {
     "data": {
      "image/png": "[encoded data removed]",
      "text/plain": [
       "<Figure size 432x288 with 1 Axes>"
      ]
     },
     "metadata": {
      "needs_background": "light"
     },
     "output_type": "display_data"
    }
   ],
   "source": [
    "plt.hist(age_gr, density=True, bins=4)\n",
    "plt.xlabel(\"Age\")\n",
    "plt.ylabel(\"Frequency\")\n",
    "plt.title(\"Age representation of people with Health Insurance\")\n",
    "plt.show()"
   ]
  },
  {
   "cell_type": "code",
   "execution_count": 10,
   "id": "c840e652",
   "metadata": {},
   "outputs": [
    {
     "data": {
      "text/html": [
       "<div>\n",
       "<style scoped>\n",
       "    .dataframe tbody tr th:only-of-type {\n",
       "        vertical-align: middle;\n",
       "    }\n",
       "\n",
       "    .dataframe tbody tr th {\n",
       "        vertical-align: top;\n",
       "    }\n",
       "\n",
       "    .dataframe thead th {\n",
       "        text-align: right;\n",
       "    }\n",
       "</style>\n",
       "<table border=\"1\" class=\"dataframe\">\n",
       "  <thead>\n",
       "    <tr style=\"text-align: right;\">\n",
       "      <th></th>\n",
       "      <th>Age</th>\n",
       "    </tr>\n",
       "  </thead>\n",
       "  <tbody>\n",
       "    <tr>\n",
       "      <th>0</th>\n",
       "      <td>45-64</td>\n",
       "    </tr>\n",
       "    <tr>\n",
       "      <th>1</th>\n",
       "      <td>45-64</td>\n",
       "    </tr>\n",
       "    <tr>\n",
       "      <th>2</th>\n",
       "      <td>65+</td>\n",
       "    </tr>\n",
       "    <tr>\n",
       "      <th>3</th>\n",
       "      <td>18-24</td>\n",
       "    </tr>\n",
       "    <tr>\n",
       "      <th>4</th>\n",
       "      <td>25-34</td>\n",
       "    </tr>\n",
       "    <tr>\n",
       "      <th>...</th>\n",
       "      <td>...</td>\n",
       "    </tr>\n",
       "    <tr>\n",
       "      <th>95</th>\n",
       "      <td>25-34</td>\n",
       "    </tr>\n",
       "    <tr>\n",
       "      <th>96</th>\n",
       "      <td>18-24</td>\n",
       "    </tr>\n",
       "    <tr>\n",
       "      <th>97</th>\n",
       "      <td>45-64</td>\n",
       "    </tr>\n",
       "    <tr>\n",
       "      <th>98</th>\n",
       "      <td>25-34</td>\n",
       "    </tr>\n",
       "    <tr>\n",
       "      <th>99</th>\n",
       "      <td>65+</td>\n",
       "    </tr>\n",
       "  </tbody>\n",
       "</table>\n",
       "<p>100 rows × 1 columns</p>\n",
       "</div>"
      ],
      "text/plain": [
       "      Age\n",
       "0   45-64\n",
       "1   45-64\n",
       "2     65+\n",
       "3   18-24\n",
       "4   25-34\n",
       "..    ...\n",
       "95  25-34\n",
       "96  18-24\n",
       "97  45-64\n",
       "98  25-34\n",
       "99    65+\n",
       "\n",
       "[100 rows x 1 columns]"
      ]
     },
     "execution_count": 10,
     "metadata": {},
     "output_type": "execute_result"
    }
   ],
   "source": [
    "# Create the dataframe from the random set generated above\n",
    "df_age = pd.DataFrame(age_gr, columns =['Age'])\n",
    "df_age"
   ]
  },
  {
   "cell_type": "markdown",
   "id": "c944e5c4",
   "metadata": {},
   "source": [
    "### Social class\n",
    "\n",
    "The survey shows following social class distribution for people who purchased private health insurance in Ireland in 2021:\n",
    "\n",
    "- 53% ABC1\n",
    "- 39% C2DE\n",
    "- 8% F"
   ]
  },
  {
   "cell_type": "code",
   "execution_count": 11,
   "id": "0076078d",
   "metadata": {
    "collapsed": true
   },
   "outputs": [
    {
     "name": "stdout",
     "output_type": "stream",
     "text": [
      "Social class set: ['ABC1' 'C2DE' 'F' 'C2DE' 'C2DE' 'ABC1' 'ABC1' 'F' 'C2DE' 'ABC1' 'F'\n",
      " 'ABC1' 'ABC1' 'C2DE' 'C2DE' 'C2DE' 'ABC1' 'F' 'C2DE' 'ABC1' 'ABC1' 'ABC1'\n",
      " 'C2DE' 'ABC1' 'F' 'ABC1' 'C2DE' 'ABC1' 'F' 'C2DE' 'C2DE' 'C2DE' 'C2DE'\n",
      " 'C2DE' 'C2DE' 'F' 'C2DE' 'C2DE' 'F' 'C2DE' 'ABC1' 'ABC1' 'ABC1' 'C2DE'\n",
      " 'C2DE' 'ABC1' 'ABC1' 'ABC1' 'ABC1' 'C2DE' 'C2DE' 'C2DE' 'F' 'C2DE' 'ABC1'\n",
      " 'ABC1' 'ABC1' 'C2DE' 'F' 'C2DE' 'ABC1' 'ABC1' 'ABC1' 'F' 'F' 'ABC1'\n",
      " 'ABC1' 'C2DE' 'F' 'C2DE' 'ABC1' 'C2DE' 'F' 'ABC1' 'F' 'C2DE' 'C2DE'\n",
      " 'ABC1' 'C2DE' 'C2DE' 'ABC1' 'C2DE' 'F' 'C2DE' 'ABC1' 'ABC1' 'C2DE' 'ABC1'\n",
      " 'C2DE' 'C2DE' 'ABC1' 'F' 'ABC1' 'C2DE' 'ABC1' 'ABC1' 'C2DE' 'ABC1' 'C2DE'\n",
      " 'C2DE']\n"
     ]
    }
   ],
   "source": [
    "# Generate the social class set \n",
    "scl = [\"ABC1\", \"C2DE\", \"F\"]\n",
    "p = [0.53, 0.39, 0.08]\n",
    "\n",
    "sc = rng.choice(scl, size = size, p = p)\n",
    "print(\"Social class set:\", sc)"
   ]
  },
  {
   "cell_type": "code",
   "execution_count": 12,
   "id": "bd62574a",
   "metadata": {
    "scrolled": true
   },
   "outputs": [
    {
     "data": {
      "image/png": "[encoded data removed]",
      "text/plain": [
       "<Figure size 432x288 with 1 Axes>"
      ]
     },
     "metadata": {
      "needs_background": "light"
     },
     "output_type": "display_data"
    }
   ],
   "source": [
    "plt.hist(sc, bins=range(6), align='left')\n",
    "plt.xticks(range(3))\n",
    "plt.xlabel(\"Social class\")\n",
    "plt.ylabel(\"Frequency\")\n",
    "plt.title(\"Social class representation of people with Health Insurance\")\n",
    "plt.show()"
   ]
  },
  {
   "cell_type": "code",
   "execution_count": 35,
   "id": "ba7625d1",
   "metadata": {
    "collapsed": true
   },
   "outputs": [
    {
     "data": {
      "text/html": [
       "<div>\n",
       "<style scoped>\n",
       "    .dataframe tbody tr th:only-of-type {\n",
       "        vertical-align: middle;\n",
       "    }\n",
       "\n",
       "    .dataframe tbody tr th {\n",
       "        vertical-align: top;\n",
       "    }\n",
       "\n",
       "    .dataframe thead th {\n",
       "        text-align: right;\n",
       "    }\n",
       "</style>\n",
       "<table border=\"1\" class=\"dataframe\">\n",
       "  <thead>\n",
       "    <tr style=\"text-align: right;\">\n",
       "      <th></th>\n",
       "      <th>Social class</th>\n",
       "    </tr>\n",
       "  </thead>\n",
       "  <tbody>\n",
       "    <tr>\n",
       "      <th>0</th>\n",
       "      <td>ABC1</td>\n",
       "    </tr>\n",
       "    <tr>\n",
       "      <th>1</th>\n",
       "      <td>C2DE</td>\n",
       "    </tr>\n",
       "    <tr>\n",
       "      <th>2</th>\n",
       "      <td>F</td>\n",
       "    </tr>\n",
       "    <tr>\n",
       "      <th>3</th>\n",
       "      <td>C2DE</td>\n",
       "    </tr>\n",
       "    <tr>\n",
       "      <th>4</th>\n",
       "      <td>C2DE</td>\n",
       "    </tr>\n",
       "    <tr>\n",
       "      <th>...</th>\n",
       "      <td>...</td>\n",
       "    </tr>\n",
       "    <tr>\n",
       "      <th>95</th>\n",
       "      <td>ABC1</td>\n",
       "    </tr>\n",
       "    <tr>\n",
       "      <th>96</th>\n",
       "      <td>C2DE</td>\n",
       "    </tr>\n",
       "    <tr>\n",
       "      <th>97</th>\n",
       "      <td>ABC1</td>\n",
       "    </tr>\n",
       "    <tr>\n",
       "      <th>98</th>\n",
       "      <td>C2DE</td>\n",
       "    </tr>\n",
       "    <tr>\n",
       "      <th>99</th>\n",
       "      <td>C2DE</td>\n",
       "    </tr>\n",
       "  </tbody>\n",
       "</table>\n",
       "<p>100 rows × 1 columns</p>\n",
       "</div>"
      ],
      "text/plain": [
       "   Social class\n",
       "0          ABC1\n",
       "1          C2DE\n",
       "2             F\n",
       "3          C2DE\n",
       "4          C2DE\n",
       "..          ...\n",
       "95         ABC1\n",
       "96         C2DE\n",
       "97         ABC1\n",
       "98         C2DE\n",
       "99         C2DE\n",
       "\n",
       "[100 rows x 1 columns]"
      ]
     },
     "execution_count": 35,
     "metadata": {},
     "output_type": "execute_result"
    }
   ],
   "source": [
    "# Create the dataframe from the random set generated above\n",
    "df_sc = pd.DataFrame(sc, columns =['Social class'])\n",
    "df_sc"
   ]
  },
  {
   "cell_type": "markdown",
   "id": "35c93c23",
   "metadata": {},
   "source": [
    "### Number of children per policy\n",
    "\n",
    "The survey shows following number of children covered by policy:\n",
    "\n",
    "- 70% None\n",
    "- 15% One child\n",
    "- 15% Two or more"
   ]
  },
  {
   "cell_type": "code",
   "execution_count": 30,
   "id": "26f81391",
   "metadata": {
    "collapsed": true
   },
   "outputs": [
    {
     "name": "stdout",
     "output_type": "stream",
     "text": [
      "Social class set: ['Two or more' 'None' 'None' 'None' 'None' 'None' 'None' 'One child'\n",
      " 'Two or more' 'None' 'Two or more' 'None' 'None' 'One child' 'None'\n",
      " 'Two or more' 'None' 'None' 'Two or more' 'One child' 'None' 'None'\n",
      " 'None' 'Two or more' 'Two or more' 'None' 'None' 'None' 'Two or more'\n",
      " 'None' 'None' 'None' 'None' 'Two or more' 'None' 'None' 'None'\n",
      " 'One child' 'None' 'None' 'None' 'None' 'None' 'None' 'None'\n",
      " 'Two or more' 'None' 'None' 'None' 'None' 'One child' 'None' 'None'\n",
      " 'Two or more' 'One child' 'None' 'One child' 'None' 'None' 'None' 'None'\n",
      " 'None' 'None' 'One child' 'None' 'None' 'None' 'None' 'None' 'One child'\n",
      " 'None' 'None' 'Two or more' 'One child' 'One child' 'None' 'None' 'None'\n",
      " 'One child' 'None' 'None' 'None' 'None' 'None' 'None' 'One child' 'None'\n",
      " 'None' 'None' 'None' 'One child' 'One child' 'None' 'None' 'None'\n",
      " 'One child' 'None' 'None' 'None' 'None']\n"
     ]
    }
   ],
   "source": [
    "# Generate the number of children set\n",
    "child = [\"None\", \"One child\", \"Two or more\"]\n",
    "p = [0.70, 0.15, 0.15]\n",
    "\n",
    "no_ch = rng.choice(child, size = size, p = p)\n",
    "print(\"Social class set:\", no_ch)"
   ]
  },
  {
   "cell_type": "code",
   "execution_count": 32,
   "id": "c32985b9",
   "metadata": {},
   "outputs": [
    {
     "data": {
      "image/png": "[encoded data removed]",
      "text/plain": [
       "<Figure size 432x288 with 1 Axes>"
      ]
     },
     "metadata": {
      "needs_background": "light"
     },
     "output_type": "display_data"
    }
   ],
   "source": [
    "plt.hist(no_ch, bins=range(6), align='left')\n",
    "plt.xticks(range(3))\n",
    "plt.xlabel(\"Number of children\")\n",
    "plt.ylabel(\"Frequency\")\n",
    "plt.title(\"Number of children covered by policy\")\n",
    "plt.show()"
   ]
  },
  {
   "cell_type": "code",
   "execution_count": 33,
   "id": "01672bc1",
   "metadata": {
    "collapsed": true
   },
   "outputs": [
    {
     "data": {
      "text/html": [
       "<div>\n",
       "<style scoped>\n",
       "    .dataframe tbody tr th:only-of-type {\n",
       "        vertical-align: middle;\n",
       "    }\n",
       "\n",
       "    .dataframe tbody tr th {\n",
       "        vertical-align: top;\n",
       "    }\n",
       "\n",
       "    .dataframe thead th {\n",
       "        text-align: right;\n",
       "    }\n",
       "</style>\n",
       "<table border=\"1\" class=\"dataframe\">\n",
       "  <thead>\n",
       "    <tr style=\"text-align: right;\">\n",
       "      <th></th>\n",
       "      <th>Children</th>\n",
       "    </tr>\n",
       "  </thead>\n",
       "  <tbody>\n",
       "    <tr>\n",
       "      <th>0</th>\n",
       "      <td>Two or more</td>\n",
       "    </tr>\n",
       "    <tr>\n",
       "      <th>1</th>\n",
       "      <td>None</td>\n",
       "    </tr>\n",
       "    <tr>\n",
       "      <th>2</th>\n",
       "      <td>None</td>\n",
       "    </tr>\n",
       "    <tr>\n",
       "      <th>3</th>\n",
       "      <td>None</td>\n",
       "    </tr>\n",
       "    <tr>\n",
       "      <th>4</th>\n",
       "      <td>None</td>\n",
       "    </tr>\n",
       "    <tr>\n",
       "      <th>...</th>\n",
       "      <td>...</td>\n",
       "    </tr>\n",
       "    <tr>\n",
       "      <th>95</th>\n",
       "      <td>One child</td>\n",
       "    </tr>\n",
       "    <tr>\n",
       "      <th>96</th>\n",
       "      <td>None</td>\n",
       "    </tr>\n",
       "    <tr>\n",
       "      <th>97</th>\n",
       "      <td>None</td>\n",
       "    </tr>\n",
       "    <tr>\n",
       "      <th>98</th>\n",
       "      <td>None</td>\n",
       "    </tr>\n",
       "    <tr>\n",
       "      <th>99</th>\n",
       "      <td>None</td>\n",
       "    </tr>\n",
       "  </tbody>\n",
       "</table>\n",
       "<p>100 rows × 1 columns</p>\n",
       "</div>"
      ],
      "text/plain": [
       "       Children\n",
       "0   Two or more\n",
       "1          None\n",
       "2          None\n",
       "3          None\n",
       "4          None\n",
       "..          ...\n",
       "95    One child\n",
       "96         None\n",
       "97         None\n",
       "98         None\n",
       "99         None\n",
       "\n",
       "[100 rows x 1 columns]"
      ]
     },
     "execution_count": 33,
     "metadata": {},
     "output_type": "execute_result"
    }
   ],
   "source": [
    "# Create the dataframe from the random set generated above\n",
    "df_no_ch = pd.DataFrame(no_ch, columns =['Children'])\n",
    "df_no_ch"
   ]
  },
  {
   "cell_type": "markdown",
   "id": "ee9daed7",
   "metadata": {},
   "source": [
    "### Incidence"
   ]
  },
  {
   "cell_type": "markdown",
   "id": "f47647d1",
   "metadata": {},
   "source": [
    "The survey shows that 53% of population has purchase private helth insurance in 2021 and 47% did not.\n",
    "\n",
    "- 53% Yes \n",
    "- 47% No"
   ]
  },
  {
   "cell_type": "code",
   "execution_count": 13,
   "id": "08d84d1e",
   "metadata": {
    "collapsed": true
   },
   "outputs": [
    {
     "data": {
      "text/plain": [
       "array(['No', 'No', 'No', 'No', 'No', 'No', 'Yes', 'Yes', 'Yes', 'No',\n",
       "       'Yes', 'Yes', 'Yes', 'No', 'No', 'Yes', 'No', 'No', 'Yes', 'No',\n",
       "       'Yes', 'Yes', 'No', 'Yes', 'No', 'No', 'Yes', 'Yes', 'No', 'Yes',\n",
       "       'Yes', 'No', 'Yes', 'Yes', 'Yes', 'No', 'No', 'No', 'Yes', 'Yes',\n",
       "       'Yes', 'No', 'Yes', 'Yes', 'No', 'No', 'Yes', 'No', 'Yes', 'Yes',\n",
       "       'No', 'Yes', 'No', 'Yes', 'Yes', 'No', 'No', 'Yes', 'Yes', 'No',\n",
       "       'No', 'No', 'No', 'Yes', 'No', 'Yes', 'No', 'Yes', 'Yes', 'No',\n",
       "       'Yes', 'Yes', 'No', 'Yes', 'No', 'No', 'No', 'No', 'No', 'Yes',\n",
       "       'No', 'No', 'No', 'Yes', 'Yes', 'No', 'No', 'No', 'Yes', 'Yes',\n",
       "       'Yes', 'Yes', 'No', 'No', 'Yes', 'Yes', 'Yes', 'No', 'No', 'Yes'],\n",
       "      dtype='<U3')"
      ]
     },
     "execution_count": 13,
     "metadata": {},
     "output_type": "execute_result"
    }
   ],
   "source": [
    "# Generate incidence list \n",
    "inc = [\"Yes\", \"No\"]\n",
    "p = [0.53, 0.47]\n",
    "\n",
    "inc = rng.choice(inc, size = size, p = p)\n",
    "# print(inc)\n",
    "inc"
   ]
  },
  {
   "cell_type": "code",
   "execution_count": 14,
   "id": "f8c87afe",
   "metadata": {},
   "outputs": [
    {
     "name": "stdout",
     "output_type": "stream",
     "text": [
      "[['No' 'Yes']\n",
      " ['51' '49']]\n"
     ]
    }
   ],
   "source": [
    "# Find unique elements of the list and count the number of times they appear in list\n",
    "unique_elements, counts_elements = np.unique(inc, return_counts=True)\n",
    "print(np.asarray((unique_elements, counts_elements)))\n",
    "yn = (np.asarray((unique_elements, counts_elements)))"
   ]
  },
  {
   "cell_type": "code",
   "execution_count": 27,
   "id": "c15187a2",
   "metadata": {},
   "outputs": [
    {
     "data": {
      "image/png": "[encoded data removed]",
      "text/plain": [
       "<Figure size 432x288 with 1 Axes>"
      ]
     },
     "metadata": {
      "needs_background": "light"
     },
     "output_type": "display_data"
    }
   ],
   "source": [
    "plt.hist(inc)\n",
    "plt.xlabel(\"Yes / No\")\n",
    "plt.ylabel(\"Frequency\")\n",
    "plt.title(\"Incidence of Health Insurance\")\n",
    "plt.show()"
   ]
  },
  {
   "cell_type": "markdown",
   "id": "2f5b5033",
   "metadata": {},
   "source": [
    "### Creating the DataFrame"
   ]
  },
  {
   "cell_type": "code",
   "execution_count": 34,
   "id": "37519e8c",
   "metadata": {},
   "outputs": [
    {
     "data": {
      "text/html": [
       "<div>\n",
       "<style scoped>\n",
       "    .dataframe tbody tr th:only-of-type {\n",
       "        vertical-align: middle;\n",
       "    }\n",
       "\n",
       "    .dataframe tbody tr th {\n",
       "        vertical-align: top;\n",
       "    }\n",
       "\n",
       "    .dataframe thead th {\n",
       "        text-align: right;\n",
       "    }\n",
       "</style>\n",
       "<table border=\"1\" class=\"dataframe\">\n",
       "  <thead>\n",
       "    <tr style=\"text-align: right;\">\n",
       "      <th></th>\n",
       "      <th>Gender</th>\n",
       "      <th>Age</th>\n",
       "      <th>Incidence</th>\n",
       "      <th>Social class</th>\n",
       "      <th>Children</th>\n",
       "    </tr>\n",
       "  </thead>\n",
       "  <tbody>\n",
       "    <tr>\n",
       "      <th>0</th>\n",
       "      <td>Male</td>\n",
       "      <td>45-64</td>\n",
       "      <td>No</td>\n",
       "      <td>ABC1</td>\n",
       "      <td>Two or more</td>\n",
       "    </tr>\n",
       "    <tr>\n",
       "      <th>1</th>\n",
       "      <td>Male</td>\n",
       "      <td>45-64</td>\n",
       "      <td>No</td>\n",
       "      <td>C2DE</td>\n",
       "      <td>None</td>\n",
       "    </tr>\n",
       "    <tr>\n",
       "      <th>2</th>\n",
       "      <td>Male</td>\n",
       "      <td>65+</td>\n",
       "      <td>No</td>\n",
       "      <td>F</td>\n",
       "      <td>None</td>\n",
       "    </tr>\n",
       "    <tr>\n",
       "      <th>3</th>\n",
       "      <td>Male</td>\n",
       "      <td>18-24</td>\n",
       "      <td>No</td>\n",
       "      <td>C2DE</td>\n",
       "      <td>None</td>\n",
       "    </tr>\n",
       "    <tr>\n",
       "      <th>4</th>\n",
       "      <td>Male</td>\n",
       "      <td>25-34</td>\n",
       "      <td>No</td>\n",
       "      <td>C2DE</td>\n",
       "      <td>None</td>\n",
       "    </tr>\n",
       "    <tr>\n",
       "      <th>...</th>\n",
       "      <td>...</td>\n",
       "      <td>...</td>\n",
       "      <td>...</td>\n",
       "      <td>...</td>\n",
       "      <td>...</td>\n",
       "    </tr>\n",
       "    <tr>\n",
       "      <th>95</th>\n",
       "      <td>Male</td>\n",
       "      <td>25-34</td>\n",
       "      <td>Yes</td>\n",
       "      <td>ABC1</td>\n",
       "      <td>One child</td>\n",
       "    </tr>\n",
       "    <tr>\n",
       "      <th>96</th>\n",
       "      <td>Female</td>\n",
       "      <td>18-24</td>\n",
       "      <td>Yes</td>\n",
       "      <td>C2DE</td>\n",
       "      <td>None</td>\n",
       "    </tr>\n",
       "    <tr>\n",
       "      <th>97</th>\n",
       "      <td>Male</td>\n",
       "      <td>45-64</td>\n",
       "      <td>No</td>\n",
       "      <td>ABC1</td>\n",
       "      <td>None</td>\n",
       "    </tr>\n",
       "    <tr>\n",
       "      <th>98</th>\n",
       "      <td>Male</td>\n",
       "      <td>25-34</td>\n",
       "      <td>No</td>\n",
       "      <td>C2DE</td>\n",
       "      <td>None</td>\n",
       "    </tr>\n",
       "    <tr>\n",
       "      <th>99</th>\n",
       "      <td>Male</td>\n",
       "      <td>65+</td>\n",
       "      <td>Yes</td>\n",
       "      <td>C2DE</td>\n",
       "      <td>None</td>\n",
       "    </tr>\n",
       "  </tbody>\n",
       "</table>\n",
       "<p>100 rows × 5 columns</p>\n",
       "</div>"
      ],
      "text/plain": [
       "    Gender    Age Incidence Social class     Children\n",
       "0     Male  45-64        No         ABC1  Two or more\n",
       "1     Male  45-64        No         C2DE         None\n",
       "2     Male    65+        No            F         None\n",
       "3     Male  18-24        No         C2DE         None\n",
       "4     Male  25-34        No         C2DE         None\n",
       "..     ...    ...       ...          ...          ...\n",
       "95    Male  25-34       Yes         ABC1    One child\n",
       "96  Female  18-24       Yes         C2DE         None\n",
       "97    Male  45-64        No         ABC1         None\n",
       "98    Male  25-34        No         C2DE         None\n",
       "99    Male    65+       Yes         C2DE         None\n",
       "\n",
       "[100 rows x 5 columns]"
      ]
     },
     "execution_count": 34,
     "metadata": {},
     "output_type": "execute_result"
    }
   ],
   "source": [
    "# dictionary of lists\n",
    "dict = {'Gender': gender, 'Age': age_gr, 'Incidence': inc, 'Social class': sc, 'Children': no_ch}\n",
    "df = pd.DataFrame(dict)\n",
    "df"
   ]
  }
 ],
 "metadata": {
  "kernelspec": {
   "display_name": "Python 3 (ipykernel)",
   "language": "python",
   "name": "python3"
  },
  "language_info": {
   "codemirror_mode": {
    "name": "ipython",
    "version": 3
   },
   "file_extension": ".py",
   "mimetype": "text/x-python",
   "name": "python",
   "nbconvert_exporter": "python",
   "pygments_lexer": "ipython3",
   "version": "3.9.7"
  }
 },
 "nbformat": 4,
 "nbformat_minor": 5
}
