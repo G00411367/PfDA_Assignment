{
 "cells": [
  {
   "cell_type": "markdown",
   "id": "58c25ef1",
   "metadata": {},
   "source": [
    "# Programming for Data Analysis Project"
   ]
  },
  {
   "cell_type": "markdown",
   "id": "4e0061a8",
   "metadata": {},
   "source": [
    "GG00411367 Ioan Domsa"
   ]
  },
  {
   "cell_type": "markdown",
   "id": "75decce7",
   "metadata": {},
   "source": [
    "The scope of this project is to create a synthetic dataset of a world phenomenon and investigate the modeled dataset using Python"
   ]
  },
  {
   "cell_type": "markdown",
   "id": "b93ee885",
   "metadata": {},
   "source": [
    "## 1. Phenomenon"
   ]
  },
  {
   "cell_type": "markdown",
   "id": "ba759b4b",
   "metadata": {},
   "source": [
    "For this project I am investigating the Private Health Insurance in Ireland in 2021"
   ]
  },
  {
   "cell_type": "markdown",
   "id": "800cef0b",
   "metadata": {},
   "source": [
    "Ireland like all European countries offers public health to its citizens at a substantial reduced rate. \n",
    "Although Ireland's spend on healthcare per capita is among highest in Europe, Ireland has one of the fewest available hospital beds in the EU. Also, Ireland has one of the lowest amount of doctors per capita in Europe.\n",
    "These particularities together with other factors creates very long weitlists for public health.\n",
    "For this reason people choose to purchase private healt insurance but the price consideration is a great barrier."
   ]
  },
  {
   "cell_type": "markdown",
   "id": "b009bae1",
   "metadata": {},
   "source": [
    "## 2. Variables"
   ]
  },
  {
   "cell_type": "markdown",
   "id": "5dcc175a",
   "metadata": {},
   "source": [
    "As health is the center of our lifes I believe it is interesting to understand the the extent of population in Ireland purchasing private health insurance and the profile of it. \n",
    "\n",
    "The project is analyzing the following variables:"
   ]
  },
  {
   "cell_type": "markdown",
   "id": "0349a288",
   "metadata": {},
   "source": [
    "- Gender Male/Female\n",
    "- Age group: 18-24, 25-44, 45-64, 65+\n",
    "- Social class: ABC1, C2DE, F\n",
    "- Average number of children per policy: None, One, Two or more\n",
    "- Incidence of private health: Yes/No "
   ]
  },
  {
   "cell_type": "markdown",
   "id": "64c3389a",
   "metadata": {},
   "source": [
    "The dataset has a population of 1000"
   ]
  },
  {
   "cell_type": "markdown",
   "id": "41a8c9e1",
   "metadata": {},
   "source": [
    "#### Importing python packages"
   ]
  },
  {
   "cell_type": "code",
   "execution_count": 117,
   "id": "6c579d2f",
   "metadata": {},
   "outputs": [],
   "source": [
    "import numpy as np\n",
    "import pandas as pd\n",
    "import matplotlib.pyplot as plt\n",
    "\n",
    "import seaborn as sns\n",
    "\n",
    "rng = np.random.default_rng()"
   ]
  },
  {
   "cell_type": "markdown",
   "id": "21df4a46",
   "metadata": {},
   "source": [
    "### Gender"
   ]
  },
  {
   "cell_type": "markdown",
   "id": "1fb786e1",
   "metadata": {},
   "source": [
    "Representation of gender of the population with private health insurance as per survey is:\n",
    "\n",
    "- 52% Male\n",
    "- 48% Female"
   ]
  },
  {
   "cell_type": "markdown",
   "id": "927dc86d",
   "metadata": {},
   "source": [
    "The gender variable follows a binomial distribution which is a common discrete distribustion.\n",
    "\n",
    "This distribution has only two possible outcomes and represents the probability for x successes in n trials, given a success probability p for each trial.\n",
    "\n",
    "An example of binomial distribution"
   ]
  },
  {
   "cell_type": "markdown",
   "id": "69a82c41",
   "metadata": {},
   "source": [
    "![Picture Binom](Images/Binomialexample.jpg)"
   ]
  },
  {
   "cell_type": "code",
   "execution_count": 118,
   "id": "c2c7d54d",
   "metadata": {
    "collapsed": true
   },
   "outputs": [
    {
     "data": {
      "text/plain": [
       "array(['Male', 'Male', 'Female', 'Female', 'Female', 'Female', 'Female',\n",
       "       'Female', 'Male', 'Male', 'Female', 'Female', 'Male', 'Female',\n",
       "       'Male', 'Female', 'Female', 'Male', 'Female', 'Male', 'Male',\n",
       "       'Female', 'Male', 'Female', 'Female', 'Female', 'Male', 'Female',\n",
       "       'Female', 'Female', 'Male', 'Male', 'Male', 'Male', 'Male', 'Male',\n",
       "       'Female', 'Male', 'Male', 'Female', 'Female', 'Male', 'Female',\n",
       "       'Male', 'Male', 'Male', 'Male', 'Male', 'Male', 'Female', 'Female',\n",
       "       'Female', 'Male', 'Male', 'Male', 'Female', 'Female', 'Female',\n",
       "       'Male', 'Male', 'Male', 'Female', 'Male', 'Male', 'Female', 'Male',\n",
       "       'Female', 'Male', 'Male', 'Female', 'Female', 'Female', 'Female',\n",
       "       'Female', 'Female', 'Female', 'Male', 'Male', 'Female', 'Male',\n",
       "       'Male', 'Female', 'Female', 'Male', 'Male', 'Male', 'Male', 'Male',\n",
       "       'Male', 'Male', 'Female', 'Female', 'Female', 'Male', 'Male',\n",
       "       'Female', 'Female', 'Female', 'Female', 'Male', 'Female', 'Male',\n",
       "       'Male', 'Female', 'Female', 'Male', 'Male', 'Female', 'Male',\n",
       "       'Female', 'Female', 'Male', 'Male', 'Male', 'Female', 'Female',\n",
       "       'Male', 'Female', 'Male', 'Male', 'Female', 'Female', 'Female',\n",
       "       'Female', 'Female', 'Female', 'Female', 'Male', 'Male', 'Female',\n",
       "       'Female', 'Male', 'Female', 'Female', 'Male', 'Female', 'Male',\n",
       "       'Male', 'Male', 'Male', 'Male', 'Male', 'Male', 'Male', 'Female',\n",
       "       'Male', 'Male', 'Male', 'Male', 'Female', 'Female', 'Male', 'Male',\n",
       "       'Female', 'Female', 'Male', 'Female', 'Male', 'Male', 'Female',\n",
       "       'Female', 'Female', 'Male', 'Female', 'Female', 'Female', 'Male',\n",
       "       'Male', 'Male', 'Female', 'Female', 'Male', 'Male', 'Male',\n",
       "       'Female', 'Male', 'Female', 'Female', 'Female', 'Male', 'Female',\n",
       "       'Female', 'Female', 'Female', 'Female', 'Female', 'Male', 'Male',\n",
       "       'Female', 'Male', 'Male', 'Female', 'Male', 'Female', 'Male',\n",
       "       'Female', 'Male', 'Male', 'Female', 'Male'], dtype='<U6')"
      ]
     },
     "execution_count": 118,
     "metadata": {},
     "output_type": "execute_result"
    }
   ],
   "source": [
    "# Generate gender list \n",
    "gen = [\"Male\", \"Female\"]\n",
    "size = 200\n",
    "p = [0.52, 0.48]\n",
    "\n",
    "gender = rng.choice(gen, size = size, p = p)\n",
    "# print(gender)\n",
    "gender"
   ]
  },
  {
   "cell_type": "code",
   "execution_count": 119,
   "id": "5e0b59a1",
   "metadata": {},
   "outputs": [
    {
     "data": {
      "text/plain": [
       "(array(['Female', 'Male'], dtype='<U6'), array([ 99, 101], dtype=int64))"
      ]
     },
     "execution_count": 119,
     "metadata": {},
     "output_type": "execute_result"
    }
   ],
   "source": [
    "# Find unique elements of the list and count the number of times they appear in list\n",
    "unique_elements = np.unique(gender, return_counts=True)\n",
    "unique_elements"
   ]
  },
  {
   "cell_type": "code",
   "execution_count": 112,
   "id": "5c84e88e",
   "metadata": {},
   "outputs": [
    {
     "name": "stdout",
     "output_type": "stream",
     "text": [
      "[['Female' 'Male']\n",
      " ['109' '91']]\n"
     ]
    }
   ],
   "source": [
    "print(np.asarray(unique_elements))"
   ]
  },
  {
   "cell_type": "code",
   "execution_count": 120,
   "id": "7f34162a",
   "metadata": {},
   "outputs": [
    {
     "data": {
      "image/png": "[encoded data removed]",
      "text/plain": [
       "<Figure size 432x288 with 1 Axes>"
      ]
     },
     "metadata": {},
     "output_type": "display_data"
    }
   ],
   "source": [
    "plt.hist(gender)\n",
    "plt.xlabel(\"Gender\")\n",
    "plt.ylabel(\"Frequency\")\n",
    "plt.title(\"Gender representation of people with Health Insurance\")\n",
    "plt.show()"
   ]
  },
  {
   "cell_type": "code",
   "execution_count": 121,
   "id": "e7500748",
   "metadata": {},
   "outputs": [
    {
     "data": {
      "text/html": [
       "<div>\n",
       "<style scoped>\n",
       "    .dataframe tbody tr th:only-of-type {\n",
       "        vertical-align: middle;\n",
       "    }\n",
       "\n",
       "    .dataframe tbody tr th {\n",
       "        vertical-align: top;\n",
       "    }\n",
       "\n",
       "    .dataframe thead th {\n",
       "        text-align: right;\n",
       "    }\n",
       "</style>\n",
       "<table border=\"1\" class=\"dataframe\">\n",
       "  <thead>\n",
       "    <tr style=\"text-align: right;\">\n",
       "      <th></th>\n",
       "      <th>Gender</th>\n",
       "    </tr>\n",
       "  </thead>\n",
       "  <tbody>\n",
       "    <tr>\n",
       "      <th>0</th>\n",
       "      <td>Male</td>\n",
       "    </tr>\n",
       "    <tr>\n",
       "      <th>1</th>\n",
       "      <td>Male</td>\n",
       "    </tr>\n",
       "    <tr>\n",
       "      <th>2</th>\n",
       "      <td>Female</td>\n",
       "    </tr>\n",
       "    <tr>\n",
       "      <th>3</th>\n",
       "      <td>Female</td>\n",
       "    </tr>\n",
       "    <tr>\n",
       "      <th>4</th>\n",
       "      <td>Female</td>\n",
       "    </tr>\n",
       "    <tr>\n",
       "      <th>...</th>\n",
       "      <td>...</td>\n",
       "    </tr>\n",
       "    <tr>\n",
       "      <th>195</th>\n",
       "      <td>Female</td>\n",
       "    </tr>\n",
       "    <tr>\n",
       "      <th>196</th>\n",
       "      <td>Male</td>\n",
       "    </tr>\n",
       "    <tr>\n",
       "      <th>197</th>\n",
       "      <td>Male</td>\n",
       "    </tr>\n",
       "    <tr>\n",
       "      <th>198</th>\n",
       "      <td>Female</td>\n",
       "    </tr>\n",
       "    <tr>\n",
       "      <th>199</th>\n",
       "      <td>Male</td>\n",
       "    </tr>\n",
       "  </tbody>\n",
       "</table>\n",
       "<p>200 rows × 1 columns</p>\n",
       "</div>"
      ],
      "text/plain": [
       "     Gender\n",
       "0      Male\n",
       "1      Male\n",
       "2    Female\n",
       "3    Female\n",
       "4    Female\n",
       "..      ...\n",
       "195  Female\n",
       "196    Male\n",
       "197    Male\n",
       "198  Female\n",
       "199    Male\n",
       "\n",
       "[200 rows x 1 columns]"
      ]
     },
     "execution_count": 121,
     "metadata": {},
     "output_type": "execute_result"
    }
   ],
   "source": [
    "# Create a dataframe from the random set generated above\n",
    "df_gender = pd.DataFrame(gender, columns =['Gender'])\n",
    "df_gender"
   ]
  },
  {
   "cell_type": "markdown",
   "id": "1f369dae",
   "metadata": {},
   "source": [
    "### Age group\n",
    "\n",
    "The survey shows following age group distribution for people who purchased private health insurance in Ireland in 2021:\n",
    "\n",
    "- 11% Age 18-24\n",
    "- 37% Age 25-34\n",
    "- 32% Age 45-64\n",
    "- 20% Age 65+"
   ]
  },
  {
   "cell_type": "code",
   "execution_count": 122,
   "id": "1179f693",
   "metadata": {
    "collapsed": true
   },
   "outputs": [
    {
     "name": "stdout",
     "output_type": "stream",
     "text": [
      "Age group set: ['25-34' '65+' '45-64' '25-34' '18-24' '45-64' '65+' '25-34' '18-24'\n",
      " '45-64' '65+' '45-64' '18-24' '45-64' '45-64' '45-64' '65+' '65+' '45-64'\n",
      " '45-64' '45-64' '45-64' '25-34' '65+' '25-34' '65+' '18-24' '65+' '45-64'\n",
      " '25-34' '45-64' '65+' '65+' '25-34' '25-34' '18-24' '25-34' '65+' '45-64'\n",
      " '25-34' '25-34' '65+' '45-64' '45-64' '45-64' '25-34' '45-64' '45-64'\n",
      " '25-34' '45-64' '25-34' '25-34' '25-34' '25-34' '25-34' '65+' '25-34'\n",
      " '25-34' '25-34' '25-34' '45-64' '18-24' '25-34' '45-64' '25-34' '65+'\n",
      " '45-64' '65+' '25-34' '65+' '45-64' '65+' '25-34' '65+' '65+' '25-34'\n",
      " '45-64' '25-34' '25-34' '18-24' '18-24' '18-24' '25-34' '25-34' '18-24'\n",
      " '45-64' '18-24' '45-64' '65+' '45-64' '25-34' '25-34' '25-34' '45-64'\n",
      " '25-34' '45-64' '25-34' '25-34' '45-64' '45-64' '25-34' '45-64' '25-34'\n",
      " '18-24' '65+' '45-64' '25-34' '45-64' '65+' '18-24' '65+' '65+' '25-34'\n",
      " '18-24' '25-34' '65+' '65+' '45-64' '25-34' '45-64' '25-34' '18-24'\n",
      " '25-34' '25-34' '65+' '25-34' '45-64' '25-34' '65+' '45-64' '25-34' '65+'\n",
      " '45-64' '25-34' '45-64' '45-64' '25-34' '25-34' '18-24' '65+' '25-34'\n",
      " '25-34' '45-64' '45-64' '25-34' '25-34' '45-64' '18-24' '25-34' '65+'\n",
      " '45-64' '65+' '45-64' '45-64' '45-64' '25-34' '45-64' '45-64' '25-34'\n",
      " '45-64' '45-64' '25-34' '25-34' '25-34' '25-34' '65+' '25-34' '25-34'\n",
      " '25-34' '65+' '45-64' '65+' '45-64' '65+' '25-34' '65+' '25-34' '25-34'\n",
      " '45-64' '25-34' '65+' '45-64' '25-34' '45-64' '45-64' '25-34' '25-34'\n",
      " '65+' '45-64' '45-64' '25-34' '45-64' '18-24' '45-64' '18-24' '25-34'\n",
      " '65+' '45-64' '25-34' '18-24']\n"
     ]
    }
   ],
   "source": [
    "# Generate the Age group \n",
    "age = [\"18-24\", \"25-34\", \"45-64\", \"65+\"]\n",
    "p = [0.11, 0.37, 0.32, 0.2]\n",
    "\n",
    "age_gr = rng.choice(age, size = size, p = p)\n",
    "print(\"Age group set:\", age_gr)"
   ]
  },
  {
   "cell_type": "code",
   "execution_count": 123,
   "id": "d1b8cc52",
   "metadata": {},
   "outputs": [
    {
     "name": "stdout",
     "output_type": "stream",
     "text": [
      "[['18-24' '25-34' '45-64' '65+']\n",
      " ['20' '76' '64' '40']]\n"
     ]
    }
   ],
   "source": [
    "# Find unique elements of the list and count the number of times they appear in list\n",
    "unique_elements, counts_elements = np.unique(age_gr, return_counts=True)\n",
    "print(np.asarray((unique_elements, counts_elements)))"
   ]
  },
  {
   "cell_type": "code",
   "execution_count": 124,
   "id": "d479d5d3",
   "metadata": {},
   "outputs": [
    {
     "data": {
      "image/png": "[encoded data removed]",
      "text/plain": [
       "<Figure size 432x288 with 1 Axes>"
      ]
     },
     "metadata": {},
     "output_type": "display_data"
    }
   ],
   "source": [
    "plt.hist(age_gr, density=True, bins=4)\n",
    "plt.xlabel(\"Age\")\n",
    "plt.ylabel(\"Frequency\")\n",
    "plt.title(\"Age representation of people with Health Insurance\")\n",
    "plt.show()"
   ]
  },
  {
   "cell_type": "code",
   "execution_count": 125,
   "id": "c840e652",
   "metadata": {},
   "outputs": [
    {
     "data": {
      "text/html": [
       "<div>\n",
       "<style scoped>\n",
       "    .dataframe tbody tr th:only-of-type {\n",
       "        vertical-align: middle;\n",
       "    }\n",
       "\n",
       "    .dataframe tbody tr th {\n",
       "        vertical-align: top;\n",
       "    }\n",
       "\n",
       "    .dataframe thead th {\n",
       "        text-align: right;\n",
       "    }\n",
       "</style>\n",
       "<table border=\"1\" class=\"dataframe\">\n",
       "  <thead>\n",
       "    <tr style=\"text-align: right;\">\n",
       "      <th></th>\n",
       "      <th>Age</th>\n",
       "    </tr>\n",
       "  </thead>\n",
       "  <tbody>\n",
       "    <tr>\n",
       "      <th>0</th>\n",
       "      <td>25-34</td>\n",
       "    </tr>\n",
       "    <tr>\n",
       "      <th>1</th>\n",
       "      <td>65+</td>\n",
       "    </tr>\n",
       "    <tr>\n",
       "      <th>2</th>\n",
       "      <td>45-64</td>\n",
       "    </tr>\n",
       "    <tr>\n",
       "      <th>3</th>\n",
       "      <td>25-34</td>\n",
       "    </tr>\n",
       "    <tr>\n",
       "      <th>4</th>\n",
       "      <td>18-24</td>\n",
       "    </tr>\n",
       "    <tr>\n",
       "      <th>...</th>\n",
       "      <td>...</td>\n",
       "    </tr>\n",
       "    <tr>\n",
       "      <th>195</th>\n",
       "      <td>25-34</td>\n",
       "    </tr>\n",
       "    <tr>\n",
       "      <th>196</th>\n",
       "      <td>65+</td>\n",
       "    </tr>\n",
       "    <tr>\n",
       "      <th>197</th>\n",
       "      <td>45-64</td>\n",
       "    </tr>\n",
       "    <tr>\n",
       "      <th>198</th>\n",
       "      <td>25-34</td>\n",
       "    </tr>\n",
       "    <tr>\n",
       "      <th>199</th>\n",
       "      <td>18-24</td>\n",
       "    </tr>\n",
       "  </tbody>\n",
       "</table>\n",
       "<p>200 rows × 1 columns</p>\n",
       "</div>"
      ],
      "text/plain": [
       "       Age\n",
       "0    25-34\n",
       "1      65+\n",
       "2    45-64\n",
       "3    25-34\n",
       "4    18-24\n",
       "..     ...\n",
       "195  25-34\n",
       "196    65+\n",
       "197  45-64\n",
       "198  25-34\n",
       "199  18-24\n",
       "\n",
       "[200 rows x 1 columns]"
      ]
     },
     "execution_count": 125,
     "metadata": {},
     "output_type": "execute_result"
    }
   ],
   "source": [
    "# Create the dataframe from the random set generated above\n",
    "df_age = pd.DataFrame(age_gr, columns =['Age'])\n",
    "df_age"
   ]
  },
  {
   "cell_type": "markdown",
   "id": "c944e5c4",
   "metadata": {},
   "source": [
    "### Social class\n",
    "\n",
    "The survey shows following social class distribution for people who purchased private health insurance in Ireland in 2021:\n",
    "\n",
    "- 53% ABC1\n",
    "- 39% C2DE\n",
    "- 8% F"
   ]
  },
  {
   "cell_type": "code",
   "execution_count": 126,
   "id": "0076078d",
   "metadata": {
    "collapsed": true
   },
   "outputs": [
    {
     "name": "stdout",
     "output_type": "stream",
     "text": [
      "Social class set: ['C2DE' 'ABC1' 'ABC1' 'ABC1' 'ABC1' 'ABC1' 'ABC1' 'ABC1' 'C2DE' 'ABC1'\n",
      " 'C2DE' 'C2DE' 'ABC1' 'C2DE' 'C2DE' 'C2DE' 'C2DE' 'ABC1' 'F' 'C2DE' 'C2DE'\n",
      " 'C2DE' 'ABC1' 'C2DE' 'ABC1' 'C2DE' 'C2DE' 'F' 'F' 'C2DE' 'C2DE' 'C2DE'\n",
      " 'ABC1' 'C2DE' 'C2DE' 'ABC1' 'C2DE' 'ABC1' 'C2DE' 'C2DE' 'ABC1' 'ABC1'\n",
      " 'ABC1' 'C2DE' 'F' 'ABC1' 'ABC1' 'C2DE' 'ABC1' 'ABC1' 'ABC1' 'ABC1' 'ABC1'\n",
      " 'ABC1' 'ABC1' 'ABC1' 'ABC1' 'ABC1' 'ABC1' 'C2DE' 'ABC1' 'ABC1' 'C2DE'\n",
      " 'C2DE' 'ABC1' 'C2DE' 'C2DE' 'ABC1' 'C2DE' 'ABC1' 'C2DE' 'ABC1' 'C2DE'\n",
      " 'C2DE' 'C2DE' 'F' 'ABC1' 'C2DE' 'C2DE' 'ABC1' 'ABC1' 'ABC1' 'ABC1' 'C2DE'\n",
      " 'ABC1' 'C2DE' 'ABC1' 'ABC1' 'ABC1' 'C2DE' 'ABC1' 'ABC1' 'C2DE' 'ABC1'\n",
      " 'C2DE' 'C2DE' 'F' 'F' 'ABC1' 'C2DE' 'ABC1' 'ABC1' 'ABC1' 'C2DE' 'ABC1'\n",
      " 'C2DE' 'C2DE' 'ABC1' 'ABC1' 'ABC1' 'ABC1' 'C2DE' 'ABC1' 'ABC1' 'C2DE'\n",
      " 'ABC1' 'ABC1' 'ABC1' 'C2DE' 'ABC1' 'ABC1' 'ABC1' 'ABC1' 'ABC1' 'C2DE'\n",
      " 'ABC1' 'ABC1' 'ABC1' 'ABC1' 'ABC1' 'C2DE' 'ABC1' 'ABC1' 'C2DE' 'ABC1'\n",
      " 'ABC1' 'ABC1' 'ABC1' 'ABC1' 'C2DE' 'ABC1' 'C2DE' 'ABC1' 'ABC1' 'ABC1'\n",
      " 'ABC1' 'ABC1' 'ABC1' 'ABC1' 'ABC1' 'ABC1' 'F' 'ABC1' 'ABC1' 'ABC1' 'ABC1'\n",
      " 'C2DE' 'ABC1' 'ABC1' 'F' 'ABC1' 'ABC1' 'ABC1' 'ABC1' 'ABC1' 'C2DE' 'ABC1'\n",
      " 'ABC1' 'ABC1' 'ABC1' 'ABC1' 'ABC1' 'C2DE' 'ABC1' 'ABC1' 'ABC1' 'C2DE'\n",
      " 'C2DE' 'C2DE' 'C2DE' 'ABC1' 'ABC1' 'ABC1' 'F' 'C2DE' 'C2DE' 'ABC1' 'C2DE'\n",
      " 'ABC1' 'ABC1' 'ABC1' 'C2DE' 'ABC1' 'C2DE' 'C2DE' 'ABC1' 'ABC1' 'ABC1'\n",
      " 'ABC1' 'ABC1']\n"
     ]
    }
   ],
   "source": [
    "# Generate the social class set \n",
    "scl = [\"ABC1\", \"C2DE\", \"F\"]\n",
    "p = [0.53, 0.39, 0.08]\n",
    "\n",
    "sc = rng.choice(scl, size = size, p = p)\n",
    "print(\"Social class set:\", sc)"
   ]
  },
  {
   "cell_type": "code",
   "execution_count": 127,
   "id": "bd62574a",
   "metadata": {
    "scrolled": true
   },
   "outputs": [
    {
     "data": {
      "image/png": "[encoded data removed]",
      "text/plain": [
       "<Figure size 432x288 with 1 Axes>"
      ]
     },
     "metadata": {},
     "output_type": "display_data"
    }
   ],
   "source": [
    "plt.hist(sc, bins=range(6), align='left')\n",
    "plt.xticks(range(3))\n",
    "plt.xlabel(\"Social class\")\n",
    "plt.ylabel(\"Frequency\")\n",
    "plt.title(\"Social class representation of people with Health Insurance\")\n",
    "plt.show()"
   ]
  },
  {
   "cell_type": "code",
   "execution_count": 128,
   "id": "ba7625d1",
   "metadata": {},
   "outputs": [
    {
     "data": {
      "text/html": [
       "<div>\n",
       "<style scoped>\n",
       "    .dataframe tbody tr th:only-of-type {\n",
       "        vertical-align: middle;\n",
       "    }\n",
       "\n",
       "    .dataframe tbody tr th {\n",
       "        vertical-align: top;\n",
       "    }\n",
       "\n",
       "    .dataframe thead th {\n",
       "        text-align: right;\n",
       "    }\n",
       "</style>\n",
       "<table border=\"1\" class=\"dataframe\">\n",
       "  <thead>\n",
       "    <tr style=\"text-align: right;\">\n",
       "      <th></th>\n",
       "      <th>Social class</th>\n",
       "    </tr>\n",
       "  </thead>\n",
       "  <tbody>\n",
       "    <tr>\n",
       "      <th>0</th>\n",
       "      <td>C2DE</td>\n",
       "    </tr>\n",
       "    <tr>\n",
       "      <th>1</th>\n",
       "      <td>ABC1</td>\n",
       "    </tr>\n",
       "    <tr>\n",
       "      <th>2</th>\n",
       "      <td>ABC1</td>\n",
       "    </tr>\n",
       "    <tr>\n",
       "      <th>3</th>\n",
       "      <td>ABC1</td>\n",
       "    </tr>\n",
       "    <tr>\n",
       "      <th>4</th>\n",
       "      <td>ABC1</td>\n",
       "    </tr>\n",
       "    <tr>\n",
       "      <th>...</th>\n",
       "      <td>...</td>\n",
       "    </tr>\n",
       "    <tr>\n",
       "      <th>195</th>\n",
       "      <td>ABC1</td>\n",
       "    </tr>\n",
       "    <tr>\n",
       "      <th>196</th>\n",
       "      <td>ABC1</td>\n",
       "    </tr>\n",
       "    <tr>\n",
       "      <th>197</th>\n",
       "      <td>ABC1</td>\n",
       "    </tr>\n",
       "    <tr>\n",
       "      <th>198</th>\n",
       "      <td>ABC1</td>\n",
       "    </tr>\n",
       "    <tr>\n",
       "      <th>199</th>\n",
       "      <td>ABC1</td>\n",
       "    </tr>\n",
       "  </tbody>\n",
       "</table>\n",
       "<p>200 rows × 1 columns</p>\n",
       "</div>"
      ],
      "text/plain": [
       "    Social class\n",
       "0           C2DE\n",
       "1           ABC1\n",
       "2           ABC1\n",
       "3           ABC1\n",
       "4           ABC1\n",
       "..           ...\n",
       "195         ABC1\n",
       "196         ABC1\n",
       "197         ABC1\n",
       "198         ABC1\n",
       "199         ABC1\n",
       "\n",
       "[200 rows x 1 columns]"
      ]
     },
     "execution_count": 128,
     "metadata": {},
     "output_type": "execute_result"
    }
   ],
   "source": [
    "# Create the dataframe from the random set generated above\n",
    "df_sc = pd.DataFrame(sc, columns =['Social class'])\n",
    "df_sc"
   ]
  },
  {
   "cell_type": "markdown",
   "id": "35c93c23",
   "metadata": {},
   "source": [
    "### Number of children per policy\n",
    "\n",
    "The survey shows following number of children covered by policy:\n",
    "\n",
    "- 70% None\n",
    "- 15% One child\n",
    "- 15% Two or more"
   ]
  },
  {
   "cell_type": "code",
   "execution_count": 129,
   "id": "26f81391",
   "metadata": {
    "collapsed": true
   },
   "outputs": [
    {
     "name": "stdout",
     "output_type": "stream",
     "text": [
      "Social class set: ['Two or more' 'None' 'None' 'None' 'None' 'None' 'None' 'None'\n",
      " 'One child' 'None' 'None' 'None' 'None' 'Two or more' 'None' 'One child'\n",
      " 'None' 'None' 'Two or more' 'None' 'Two or more' 'None' 'One child'\n",
      " 'None' 'None' 'One child' 'None' 'Two or more' 'Two or more' 'None'\n",
      " 'None' 'None' 'One child' 'None' 'None' 'One child' 'Two or more'\n",
      " 'Two or more' 'None' 'None' 'None' 'One child' 'One child' 'Two or more'\n",
      " 'None' 'One child' 'None' 'None' 'Two or more' 'None' 'None' 'None'\n",
      " 'None' 'None' 'None' 'None' 'None' 'Two or more' 'None' 'None'\n",
      " 'Two or more' 'None' 'None' 'None' 'None' 'None' 'Two or more' 'None'\n",
      " 'None' 'None' 'None' 'None' 'Two or more' 'None' 'One child' 'One child'\n",
      " 'Two or more' 'Two or more' 'Two or more' 'None' 'None' 'None'\n",
      " 'Two or more' 'Two or more' 'None' 'One child' 'None' 'One child'\n",
      " 'Two or more' 'None' 'None' 'None' 'None' 'Two or more' 'One child'\n",
      " 'None' 'One child' 'Two or more' 'None' 'None' 'None' 'None' 'One child'\n",
      " 'None' 'None' 'None' 'None' 'None' 'Two or more' 'Two or more' 'None'\n",
      " 'Two or more' 'One child' 'None' 'Two or more' 'None' 'None' 'None'\n",
      " 'None' 'None' 'Two or more' 'None' 'One child' 'None' 'None'\n",
      " 'Two or more' 'One child' 'Two or more' 'None' 'None' 'None' 'None'\n",
      " 'None' 'Two or more' 'None' 'None' 'Two or more' 'None' 'None' 'None'\n",
      " 'None' 'None' 'Two or more' 'None' 'None' 'One child' 'Two or more'\n",
      " 'None' 'None' 'None' 'None' 'None' 'None' 'None' 'None' 'None'\n",
      " 'One child' 'None' 'One child' 'One child' 'None' 'None' 'One child'\n",
      " 'None' 'None' 'One child' 'None' 'One child' 'None' 'None' 'Two or more'\n",
      " 'None' 'None' 'One child' 'None' 'None' 'None' 'None' 'None' 'None'\n",
      " 'Two or more' 'None' 'Two or more' 'None' 'None' 'None' 'None' 'None'\n",
      " 'None' 'Two or more' 'Two or more' 'None' 'None' 'None' 'None' 'None'\n",
      " 'One child' 'None' 'One child' 'None']\n"
     ]
    }
   ],
   "source": [
    "# Generate the number of children set\n",
    "child = [\"None\", \"One child\", \"Two or more\"]\n",
    "p = [0.70, 0.15, 0.15]\n",
    "\n",
    "no_ch = rng.choice(child, size = size, p = p)\n",
    "print(\"Social class set:\", no_ch)"
   ]
  },
  {
   "cell_type": "code",
   "execution_count": 130,
   "id": "c32985b9",
   "metadata": {},
   "outputs": [
    {
     "data": {
      "image/png": "[encoded data removed]",
      "text/plain": [
       "<Figure size 432x288 with 1 Axes>"
      ]
     },
     "metadata": {},
     "output_type": "display_data"
    }
   ],
   "source": [
    "plt.hist(no_ch, bins=range(6), align='left')\n",
    "plt.xticks(range(3))\n",
    "plt.xlabel(\"Number of children\")\n",
    "plt.ylabel(\"Frequency\")\n",
    "plt.title(\"Number of children covered by policy\")\n",
    "plt.show()"
   ]
  },
  {
   "cell_type": "code",
   "execution_count": 131,
   "id": "01672bc1",
   "metadata": {},
   "outputs": [
    {
     "data": {
      "text/html": [
       "<div>\n",
       "<style scoped>\n",
       "    .dataframe tbody tr th:only-of-type {\n",
       "        vertical-align: middle;\n",
       "    }\n",
       "\n",
       "    .dataframe tbody tr th {\n",
       "        vertical-align: top;\n",
       "    }\n",
       "\n",
       "    .dataframe thead th {\n",
       "        text-align: right;\n",
       "    }\n",
       "</style>\n",
       "<table border=\"1\" class=\"dataframe\">\n",
       "  <thead>\n",
       "    <tr style=\"text-align: right;\">\n",
       "      <th></th>\n",
       "      <th>Children</th>\n",
       "    </tr>\n",
       "  </thead>\n",
       "  <tbody>\n",
       "    <tr>\n",
       "      <th>0</th>\n",
       "      <td>Two or more</td>\n",
       "    </tr>\n",
       "    <tr>\n",
       "      <th>1</th>\n",
       "      <td>None</td>\n",
       "    </tr>\n",
       "    <tr>\n",
       "      <th>2</th>\n",
       "      <td>None</td>\n",
       "    </tr>\n",
       "    <tr>\n",
       "      <th>3</th>\n",
       "      <td>None</td>\n",
       "    </tr>\n",
       "    <tr>\n",
       "      <th>4</th>\n",
       "      <td>None</td>\n",
       "    </tr>\n",
       "    <tr>\n",
       "      <th>...</th>\n",
       "      <td>...</td>\n",
       "    </tr>\n",
       "    <tr>\n",
       "      <th>195</th>\n",
       "      <td>None</td>\n",
       "    </tr>\n",
       "    <tr>\n",
       "      <th>196</th>\n",
       "      <td>One child</td>\n",
       "    </tr>\n",
       "    <tr>\n",
       "      <th>197</th>\n",
       "      <td>None</td>\n",
       "    </tr>\n",
       "    <tr>\n",
       "      <th>198</th>\n",
       "      <td>One child</td>\n",
       "    </tr>\n",
       "    <tr>\n",
       "      <th>199</th>\n",
       "      <td>None</td>\n",
       "    </tr>\n",
       "  </tbody>\n",
       "</table>\n",
       "<p>200 rows × 1 columns</p>\n",
       "</div>"
      ],
      "text/plain": [
       "        Children\n",
       "0    Two or more\n",
       "1           None\n",
       "2           None\n",
       "3           None\n",
       "4           None\n",
       "..           ...\n",
       "195         None\n",
       "196    One child\n",
       "197         None\n",
       "198    One child\n",
       "199         None\n",
       "\n",
       "[200 rows x 1 columns]"
      ]
     },
     "execution_count": 131,
     "metadata": {},
     "output_type": "execute_result"
    }
   ],
   "source": [
    "# Create the dataframe from the random set generated above\n",
    "df_ch = pd.DataFrame(no_ch, columns =['Children'])\n",
    "df_ch"
   ]
  },
  {
   "cell_type": "markdown",
   "id": "ee9daed7",
   "metadata": {},
   "source": [
    "### Incidence - percentage of population with private health insurance"
   ]
  },
  {
   "cell_type": "markdown",
   "id": "f47647d1",
   "metadata": {},
   "source": [
    "The survey shows that 53% of population has purchased private helth insurance in 2021 and 47% did not.\n",
    "\n",
    "- 53% Yes \n",
    "- 47% No"
   ]
  },
  {
   "cell_type": "code",
   "execution_count": 132,
   "id": "08d84d1e",
   "metadata": {
    "collapsed": true
   },
   "outputs": [
    {
     "data": {
      "text/plain": [
       "array(['No', 'No', 'Yes', 'No', 'Yes', 'No', 'No', 'No', 'Yes', 'Yes',\n",
       "       'Yes', 'No', 'No', 'No', 'No', 'No', 'No', 'No', 'No', 'No', 'Yes',\n",
       "       'Yes', 'No', 'Yes', 'Yes', 'No', 'No', 'Yes', 'Yes', 'No', 'Yes',\n",
       "       'Yes', 'Yes', 'No', 'Yes', 'No', 'No', 'No', 'Yes', 'Yes', 'Yes',\n",
       "       'Yes', 'No', 'No', 'No', 'No', 'Yes', 'Yes', 'Yes', 'Yes', 'No',\n",
       "       'No', 'Yes', 'No', 'No', 'No', 'Yes', 'No', 'No', 'Yes', 'Yes',\n",
       "       'No', 'Yes', 'Yes', 'No', 'Yes', 'No', 'Yes', 'Yes', 'Yes', 'Yes',\n",
       "       'Yes', 'Yes', 'No', 'Yes', 'Yes', 'No', 'No', 'No', 'No', 'Yes',\n",
       "       'No', 'Yes', 'No', 'Yes', 'Yes', 'No', 'No', 'No', 'Yes', 'Yes',\n",
       "       'Yes', 'Yes', 'Yes', 'No', 'No', 'Yes', 'No', 'Yes', 'Yes', 'Yes',\n",
       "       'Yes', 'No', 'Yes', 'Yes', 'Yes', 'Yes', 'No', 'Yes', 'No', 'No',\n",
       "       'No', 'Yes', 'Yes', 'Yes', 'Yes', 'No', 'Yes', 'No', 'Yes', 'Yes',\n",
       "       'No', 'Yes', 'No', 'No', 'No', 'Yes', 'No', 'No', 'Yes', 'Yes',\n",
       "       'No', 'Yes', 'No', 'Yes', 'Yes', 'Yes', 'Yes', 'Yes', 'Yes', 'Yes',\n",
       "       'No', 'No', 'No', 'Yes', 'Yes', 'Yes', 'No', 'No', 'No', 'No',\n",
       "       'Yes', 'No', 'Yes', 'No', 'No', 'No', 'No', 'Yes', 'No', 'No',\n",
       "       'No', 'Yes', 'No', 'Yes', 'No', 'Yes', 'Yes', 'Yes', 'Yes', 'Yes',\n",
       "       'Yes', 'No', 'Yes', 'Yes', 'No', 'No', 'Yes', 'Yes', 'Yes', 'Yes',\n",
       "       'Yes', 'No', 'No', 'Yes', 'Yes', 'Yes', 'No', 'No', 'Yes', 'No',\n",
       "       'No', 'Yes', 'Yes', 'Yes', 'No', 'Yes', 'Yes', 'No', 'No'],\n",
       "      dtype='<U3')"
      ]
     },
     "execution_count": 132,
     "metadata": {},
     "output_type": "execute_result"
    }
   ],
   "source": [
    "# Generate incidence list \n",
    "inc = [\"Yes\", \"No\"]\n",
    "p = [0.53, 0.47]\n",
    "\n",
    "inc = rng.choice(inc, size = size, p = p)\n",
    "# print(inc)\n",
    "inc"
   ]
  },
  {
   "cell_type": "code",
   "execution_count": 133,
   "id": "f8c87afe",
   "metadata": {},
   "outputs": [
    {
     "name": "stdout",
     "output_type": "stream",
     "text": [
      "[['No' 'Yes']\n",
      " ['94' '106']]\n"
     ]
    }
   ],
   "source": [
    "# Find unique elements of the list and count the number of times they appear in list\n",
    "unique_elements, counts_elements = np.unique(inc, return_counts=True)\n",
    "print(np.asarray((unique_elements, counts_elements)))\n",
    "yn = (np.asarray((unique_elements, counts_elements)))"
   ]
  },
  {
   "cell_type": "code",
   "execution_count": 134,
   "id": "c15187a2",
   "metadata": {},
   "outputs": [
    {
     "data": {
      "image/png": "[encoded data removed]",
      "text/plain": [
       "<Figure size 432x288 with 1 Axes>"
      ]
     },
     "metadata": {},
     "output_type": "display_data"
    }
   ],
   "source": [
    "plt.hist(inc)\n",
    "plt.xlabel(\"Yes / No\")\n",
    "plt.ylabel(\"Frequency\")\n",
    "plt.title(\"Incidence of Health Insurance\")\n",
    "plt.show()"
   ]
  },
  {
   "cell_type": "code",
   "execution_count": 20,
   "id": "ee911396",
   "metadata": {},
   "outputs": [
    {
     "data": {
      "text/html": [
       "<div>\n",
       "<style scoped>\n",
       "    .dataframe tbody tr th:only-of-type {\n",
       "        vertical-align: middle;\n",
       "    }\n",
       "\n",
       "    .dataframe tbody tr th {\n",
       "        vertical-align: top;\n",
       "    }\n",
       "\n",
       "    .dataframe thead th {\n",
       "        text-align: right;\n",
       "    }\n",
       "</style>\n",
       "<table border=\"1\" class=\"dataframe\">\n",
       "  <thead>\n",
       "    <tr style=\"text-align: right;\">\n",
       "      <th></th>\n",
       "      <th>Incidence</th>\n",
       "    </tr>\n",
       "  </thead>\n",
       "  <tbody>\n",
       "    <tr>\n",
       "      <th>0</th>\n",
       "      <td>Yes</td>\n",
       "    </tr>\n",
       "    <tr>\n",
       "      <th>1</th>\n",
       "      <td>No</td>\n",
       "    </tr>\n",
       "    <tr>\n",
       "      <th>2</th>\n",
       "      <td>Yes</td>\n",
       "    </tr>\n",
       "    <tr>\n",
       "      <th>3</th>\n",
       "      <td>Yes</td>\n",
       "    </tr>\n",
       "    <tr>\n",
       "      <th>4</th>\n",
       "      <td>No</td>\n",
       "    </tr>\n",
       "    <tr>\n",
       "      <th>...</th>\n",
       "      <td>...</td>\n",
       "    </tr>\n",
       "    <tr>\n",
       "      <th>95</th>\n",
       "      <td>No</td>\n",
       "    </tr>\n",
       "    <tr>\n",
       "      <th>96</th>\n",
       "      <td>No</td>\n",
       "    </tr>\n",
       "    <tr>\n",
       "      <th>97</th>\n",
       "      <td>No</td>\n",
       "    </tr>\n",
       "    <tr>\n",
       "      <th>98</th>\n",
       "      <td>No</td>\n",
       "    </tr>\n",
       "    <tr>\n",
       "      <th>99</th>\n",
       "      <td>Yes</td>\n",
       "    </tr>\n",
       "  </tbody>\n",
       "</table>\n",
       "<p>100 rows × 1 columns</p>\n",
       "</div>"
      ],
      "text/plain": [
       "   Incidence\n",
       "0        Yes\n",
       "1         No\n",
       "2        Yes\n",
       "3        Yes\n",
       "4         No\n",
       "..       ...\n",
       "95        No\n",
       "96        No\n",
       "97        No\n",
       "98        No\n",
       "99       Yes\n",
       "\n",
       "[100 rows x 1 columns]"
      ]
     },
     "execution_count": 20,
     "metadata": {},
     "output_type": "execute_result"
    }
   ],
   "source": [
    "# Create the dataframe from the random set generated above\n",
    "df_inc = pd.DataFrame(inc, columns =['Incidence'])\n",
    "df_inc"
   ]
  },
  {
   "cell_type": "markdown",
   "id": "2f5b5033",
   "metadata": {},
   "source": [
    "### 3. Creating the Dataset"
   ]
  },
  {
   "cell_type": "code",
   "execution_count": 135,
   "id": "37519e8c",
   "metadata": {},
   "outputs": [
    {
     "data": {
      "text/html": [
       "<div>\n",
       "<style scoped>\n",
       "    .dataframe tbody tr th:only-of-type {\n",
       "        vertical-align: middle;\n",
       "    }\n",
       "\n",
       "    .dataframe tbody tr th {\n",
       "        vertical-align: top;\n",
       "    }\n",
       "\n",
       "    .dataframe thead th {\n",
       "        text-align: right;\n",
       "    }\n",
       "</style>\n",
       "<table border=\"1\" class=\"dataframe\">\n",
       "  <thead>\n",
       "    <tr style=\"text-align: right;\">\n",
       "      <th></th>\n",
       "      <th>Gender</th>\n",
       "      <th>Age</th>\n",
       "      <th>Incidence</th>\n",
       "      <th>Social class</th>\n",
       "      <th>Children</th>\n",
       "    </tr>\n",
       "  </thead>\n",
       "  <tbody>\n",
       "    <tr>\n",
       "      <th>0</th>\n",
       "      <td>Male</td>\n",
       "      <td>25-34</td>\n",
       "      <td>No</td>\n",
       "      <td>C2DE</td>\n",
       "      <td>Two or more</td>\n",
       "    </tr>\n",
       "    <tr>\n",
       "      <th>1</th>\n",
       "      <td>Male</td>\n",
       "      <td>65+</td>\n",
       "      <td>No</td>\n",
       "      <td>ABC1</td>\n",
       "      <td>None</td>\n",
       "    </tr>\n",
       "    <tr>\n",
       "      <th>2</th>\n",
       "      <td>Female</td>\n",
       "      <td>45-64</td>\n",
       "      <td>Yes</td>\n",
       "      <td>ABC1</td>\n",
       "      <td>None</td>\n",
       "    </tr>\n",
       "    <tr>\n",
       "      <th>3</th>\n",
       "      <td>Female</td>\n",
       "      <td>25-34</td>\n",
       "      <td>No</td>\n",
       "      <td>ABC1</td>\n",
       "      <td>None</td>\n",
       "    </tr>\n",
       "    <tr>\n",
       "      <th>4</th>\n",
       "      <td>Female</td>\n",
       "      <td>18-24</td>\n",
       "      <td>Yes</td>\n",
       "      <td>ABC1</td>\n",
       "      <td>None</td>\n",
       "    </tr>\n",
       "    <tr>\n",
       "      <th>...</th>\n",
       "      <td>...</td>\n",
       "      <td>...</td>\n",
       "      <td>...</td>\n",
       "      <td>...</td>\n",
       "      <td>...</td>\n",
       "    </tr>\n",
       "    <tr>\n",
       "      <th>195</th>\n",
       "      <td>Female</td>\n",
       "      <td>25-34</td>\n",
       "      <td>No</td>\n",
       "      <td>ABC1</td>\n",
       "      <td>None</td>\n",
       "    </tr>\n",
       "    <tr>\n",
       "      <th>196</th>\n",
       "      <td>Male</td>\n",
       "      <td>65+</td>\n",
       "      <td>Yes</td>\n",
       "      <td>ABC1</td>\n",
       "      <td>One child</td>\n",
       "    </tr>\n",
       "    <tr>\n",
       "      <th>197</th>\n",
       "      <td>Male</td>\n",
       "      <td>45-64</td>\n",
       "      <td>Yes</td>\n",
       "      <td>ABC1</td>\n",
       "      <td>None</td>\n",
       "    </tr>\n",
       "    <tr>\n",
       "      <th>198</th>\n",
       "      <td>Female</td>\n",
       "      <td>25-34</td>\n",
       "      <td>No</td>\n",
       "      <td>ABC1</td>\n",
       "      <td>One child</td>\n",
       "    </tr>\n",
       "    <tr>\n",
       "      <th>199</th>\n",
       "      <td>Male</td>\n",
       "      <td>18-24</td>\n",
       "      <td>No</td>\n",
       "      <td>ABC1</td>\n",
       "      <td>None</td>\n",
       "    </tr>\n",
       "  </tbody>\n",
       "</table>\n",
       "<p>200 rows × 5 columns</p>\n",
       "</div>"
      ],
      "text/plain": [
       "     Gender    Age Incidence Social class     Children\n",
       "0      Male  25-34        No         C2DE  Two or more\n",
       "1      Male    65+        No         ABC1         None\n",
       "2    Female  45-64       Yes         ABC1         None\n",
       "3    Female  25-34        No         ABC1         None\n",
       "4    Female  18-24       Yes         ABC1         None\n",
       "..      ...    ...       ...          ...          ...\n",
       "195  Female  25-34        No         ABC1         None\n",
       "196    Male    65+       Yes         ABC1    One child\n",
       "197    Male  45-64       Yes         ABC1         None\n",
       "198  Female  25-34        No         ABC1    One child\n",
       "199    Male  18-24        No         ABC1         None\n",
       "\n",
       "[200 rows x 5 columns]"
      ]
     },
     "execution_count": 135,
     "metadata": {},
     "output_type": "execute_result"
    }
   ],
   "source": [
    "# create dataframe using dictionary of lists\n",
    "dict_phi = {'Gender': gender, 'Age': age_gr, 'Incidence': inc, 'Social class': sc, 'Children': no_ch}\n",
    "df_main = pd.DataFrame(dict_phi)\n",
    "df_main"
   ]
  },
  {
   "cell_type": "markdown",
   "id": "52752cbf",
   "metadata": {},
   "source": [
    "### 4. Statistics\n",
    "- Call first 5 rows of the dataset"
   ]
  },
  {
   "cell_type": "code",
   "execution_count": 136,
   "id": "1c0f2f6b",
   "metadata": {},
   "outputs": [
    {
     "data": {
      "text/html": [
       "<div>\n",
       "<style scoped>\n",
       "    .dataframe tbody tr th:only-of-type {\n",
       "        vertical-align: middle;\n",
       "    }\n",
       "\n",
       "    .dataframe tbody tr th {\n",
       "        vertical-align: top;\n",
       "    }\n",
       "\n",
       "    .dataframe thead th {\n",
       "        text-align: right;\n",
       "    }\n",
       "</style>\n",
       "<table border=\"1\" class=\"dataframe\">\n",
       "  <thead>\n",
       "    <tr style=\"text-align: right;\">\n",
       "      <th></th>\n",
       "      <th>Gender</th>\n",
       "      <th>Age</th>\n",
       "      <th>Incidence</th>\n",
       "      <th>Social class</th>\n",
       "      <th>Children</th>\n",
       "    </tr>\n",
       "  </thead>\n",
       "  <tbody>\n",
       "    <tr>\n",
       "      <th>0</th>\n",
       "      <td>Male</td>\n",
       "      <td>25-34</td>\n",
       "      <td>No</td>\n",
       "      <td>C2DE</td>\n",
       "      <td>Two or more</td>\n",
       "    </tr>\n",
       "    <tr>\n",
       "      <th>1</th>\n",
       "      <td>Male</td>\n",
       "      <td>65+</td>\n",
       "      <td>No</td>\n",
       "      <td>ABC1</td>\n",
       "      <td>None</td>\n",
       "    </tr>\n",
       "    <tr>\n",
       "      <th>2</th>\n",
       "      <td>Female</td>\n",
       "      <td>45-64</td>\n",
       "      <td>Yes</td>\n",
       "      <td>ABC1</td>\n",
       "      <td>None</td>\n",
       "    </tr>\n",
       "    <tr>\n",
       "      <th>3</th>\n",
       "      <td>Female</td>\n",
       "      <td>25-34</td>\n",
       "      <td>No</td>\n",
       "      <td>ABC1</td>\n",
       "      <td>None</td>\n",
       "    </tr>\n",
       "    <tr>\n",
       "      <th>4</th>\n",
       "      <td>Female</td>\n",
       "      <td>18-24</td>\n",
       "      <td>Yes</td>\n",
       "      <td>ABC1</td>\n",
       "      <td>None</td>\n",
       "    </tr>\n",
       "  </tbody>\n",
       "</table>\n",
       "</div>"
      ],
      "text/plain": [
       "   Gender    Age Incidence Social class     Children\n",
       "0    Male  25-34        No         C2DE  Two or more\n",
       "1    Male    65+        No         ABC1         None\n",
       "2  Female  45-64       Yes         ABC1         None\n",
       "3  Female  25-34        No         ABC1         None\n",
       "4  Female  18-24       Yes         ABC1         None"
      ]
     },
     "execution_count": 136,
     "metadata": {},
     "output_type": "execute_result"
    }
   ],
   "source": [
    "df_main.head()"
   ]
  },
  {
   "cell_type": "markdown",
   "id": "38923728",
   "metadata": {},
   "source": [
    "- Call last 5 rows of the dataset"
   ]
  },
  {
   "cell_type": "code",
   "execution_count": 137,
   "id": "76146290",
   "metadata": {},
   "outputs": [
    {
     "data": {
      "text/html": [
       "<div>\n",
       "<style scoped>\n",
       "    .dataframe tbody tr th:only-of-type {\n",
       "        vertical-align: middle;\n",
       "    }\n",
       "\n",
       "    .dataframe tbody tr th {\n",
       "        vertical-align: top;\n",
       "    }\n",
       "\n",
       "    .dataframe thead th {\n",
       "        text-align: right;\n",
       "    }\n",
       "</style>\n",
       "<table border=\"1\" class=\"dataframe\">\n",
       "  <thead>\n",
       "    <tr style=\"text-align: right;\">\n",
       "      <th></th>\n",
       "      <th>Gender</th>\n",
       "      <th>Age</th>\n",
       "      <th>Incidence</th>\n",
       "      <th>Social class</th>\n",
       "      <th>Children</th>\n",
       "    </tr>\n",
       "  </thead>\n",
       "  <tbody>\n",
       "    <tr>\n",
       "      <th>195</th>\n",
       "      <td>Female</td>\n",
       "      <td>25-34</td>\n",
       "      <td>No</td>\n",
       "      <td>ABC1</td>\n",
       "      <td>None</td>\n",
       "    </tr>\n",
       "    <tr>\n",
       "      <th>196</th>\n",
       "      <td>Male</td>\n",
       "      <td>65+</td>\n",
       "      <td>Yes</td>\n",
       "      <td>ABC1</td>\n",
       "      <td>One child</td>\n",
       "    </tr>\n",
       "    <tr>\n",
       "      <th>197</th>\n",
       "      <td>Male</td>\n",
       "      <td>45-64</td>\n",
       "      <td>Yes</td>\n",
       "      <td>ABC1</td>\n",
       "      <td>None</td>\n",
       "    </tr>\n",
       "    <tr>\n",
       "      <th>198</th>\n",
       "      <td>Female</td>\n",
       "      <td>25-34</td>\n",
       "      <td>No</td>\n",
       "      <td>ABC1</td>\n",
       "      <td>One child</td>\n",
       "    </tr>\n",
       "    <tr>\n",
       "      <th>199</th>\n",
       "      <td>Male</td>\n",
       "      <td>18-24</td>\n",
       "      <td>No</td>\n",
       "      <td>ABC1</td>\n",
       "      <td>None</td>\n",
       "    </tr>\n",
       "  </tbody>\n",
       "</table>\n",
       "</div>"
      ],
      "text/plain": [
       "     Gender    Age Incidence Social class   Children\n",
       "195  Female  25-34        No         ABC1       None\n",
       "196    Male    65+       Yes         ABC1  One child\n",
       "197    Male  45-64       Yes         ABC1       None\n",
       "198  Female  25-34        No         ABC1  One child\n",
       "199    Male  18-24        No         ABC1       None"
      ]
     },
     "execution_count": 137,
     "metadata": {},
     "output_type": "execute_result"
    }
   ],
   "source": [
    "df_main.tail()"
   ]
  },
  {
   "cell_type": "markdown",
   "id": "e3e754aa",
   "metadata": {},
   "source": [
    "- Generate and display a summary statistics of the dataset"
   ]
  },
  {
   "cell_type": "code",
   "execution_count": 138,
   "id": "101e175e",
   "metadata": {},
   "outputs": [
    {
     "data": {
      "text/html": [
       "<div>\n",
       "<style scoped>\n",
       "    .dataframe tbody tr th:only-of-type {\n",
       "        vertical-align: middle;\n",
       "    }\n",
       "\n",
       "    .dataframe tbody tr th {\n",
       "        vertical-align: top;\n",
       "    }\n",
       "\n",
       "    .dataframe thead th {\n",
       "        text-align: right;\n",
       "    }\n",
       "</style>\n",
       "<table border=\"1\" class=\"dataframe\">\n",
       "  <thead>\n",
       "    <tr style=\"text-align: right;\">\n",
       "      <th></th>\n",
       "      <th>Gender</th>\n",
       "      <th>Age</th>\n",
       "      <th>Incidence</th>\n",
       "      <th>Social class</th>\n",
       "      <th>Children</th>\n",
       "    </tr>\n",
       "  </thead>\n",
       "  <tbody>\n",
       "    <tr>\n",
       "      <th>count</th>\n",
       "      <td>200</td>\n",
       "      <td>200</td>\n",
       "      <td>200</td>\n",
       "      <td>200</td>\n",
       "      <td>200</td>\n",
       "    </tr>\n",
       "    <tr>\n",
       "      <th>unique</th>\n",
       "      <td>2</td>\n",
       "      <td>4</td>\n",
       "      <td>2</td>\n",
       "      <td>3</td>\n",
       "      <td>3</td>\n",
       "    </tr>\n",
       "    <tr>\n",
       "      <th>top</th>\n",
       "      <td>Male</td>\n",
       "      <td>25-34</td>\n",
       "      <td>Yes</td>\n",
       "      <td>ABC1</td>\n",
       "      <td>None</td>\n",
       "    </tr>\n",
       "    <tr>\n",
       "      <th>freq</th>\n",
       "      <td>101</td>\n",
       "      <td>76</td>\n",
       "      <td>106</td>\n",
       "      <td>123</td>\n",
       "      <td>133</td>\n",
       "    </tr>\n",
       "  </tbody>\n",
       "</table>\n",
       "</div>"
      ],
      "text/plain": [
       "       Gender    Age Incidence Social class Children\n",
       "count     200    200       200          200      200\n",
       "unique      2      4         2            3        3\n",
       "top      Male  25-34       Yes         ABC1     None\n",
       "freq      101     76       106          123      133"
      ]
     },
     "execution_count": 138,
     "metadata": {},
     "output_type": "execute_result"
    }
   ],
   "source": [
    "df_main.describe()"
   ]
  },
  {
   "cell_type": "markdown",
   "id": "4d265253",
   "metadata": {},
   "source": [
    "The above statistics shows the number of counts for the simulated dataset together with the list of all variables used in the analysys. It also provide information on the variable unique, top and fequency. "
   ]
  },
  {
   "cell_type": "markdown",
   "id": "a3742e34",
   "metadata": {},
   "source": [
    "We can investigate in details any of the varaibles in the data set\n",
    "Incidence.\n",
    "I believe it is intersting to analyse the Incidence of private health insurace in Ireland and the profile of people purcahing it"
   ]
  },
  {
   "cell_type": "code",
   "execution_count": 139,
   "id": "d68eaeab",
   "metadata": {},
   "outputs": [
    {
     "data": {
      "text/html": [
       "<div>\n",
       "<style scoped>\n",
       "    .dataframe tbody tr th:only-of-type {\n",
       "        vertical-align: middle;\n",
       "    }\n",
       "\n",
       "    .dataframe tbody tr th {\n",
       "        vertical-align: top;\n",
       "    }\n",
       "\n",
       "    .dataframe thead tr th {\n",
       "        text-align: left;\n",
       "    }\n",
       "\n",
       "    .dataframe thead tr:last-of-type th {\n",
       "        text-align: right;\n",
       "    }\n",
       "</style>\n",
       "<table border=\"1\" class=\"dataframe\">\n",
       "  <thead>\n",
       "    <tr>\n",
       "      <th></th>\n",
       "      <th colspan=\"4\" halign=\"left\">Gender</th>\n",
       "      <th colspan=\"4\" halign=\"left\">Age</th>\n",
       "      <th colspan=\"4\" halign=\"left\">Social class</th>\n",
       "      <th colspan=\"4\" halign=\"left\">Children</th>\n",
       "    </tr>\n",
       "    <tr>\n",
       "      <th></th>\n",
       "      <th>count</th>\n",
       "      <th>unique</th>\n",
       "      <th>top</th>\n",
       "      <th>freq</th>\n",
       "      <th>count</th>\n",
       "      <th>unique</th>\n",
       "      <th>top</th>\n",
       "      <th>freq</th>\n",
       "      <th>count</th>\n",
       "      <th>unique</th>\n",
       "      <th>top</th>\n",
       "      <th>freq</th>\n",
       "      <th>count</th>\n",
       "      <th>unique</th>\n",
       "      <th>top</th>\n",
       "      <th>freq</th>\n",
       "    </tr>\n",
       "    <tr>\n",
       "      <th>Incidence</th>\n",
       "      <th></th>\n",
       "      <th></th>\n",
       "      <th></th>\n",
       "      <th></th>\n",
       "      <th></th>\n",
       "      <th></th>\n",
       "      <th></th>\n",
       "      <th></th>\n",
       "      <th></th>\n",
       "      <th></th>\n",
       "      <th></th>\n",
       "      <th></th>\n",
       "      <th></th>\n",
       "      <th></th>\n",
       "      <th></th>\n",
       "      <th></th>\n",
       "    </tr>\n",
       "  </thead>\n",
       "  <tbody>\n",
       "    <tr>\n",
       "      <th>No</th>\n",
       "      <td>94</td>\n",
       "      <td>2</td>\n",
       "      <td>Female</td>\n",
       "      <td>49</td>\n",
       "      <td>94</td>\n",
       "      <td>4</td>\n",
       "      <td>25-34</td>\n",
       "      <td>36</td>\n",
       "      <td>94</td>\n",
       "      <td>3</td>\n",
       "      <td>ABC1</td>\n",
       "      <td>58</td>\n",
       "      <td>94</td>\n",
       "      <td>3</td>\n",
       "      <td>None</td>\n",
       "      <td>59</td>\n",
       "    </tr>\n",
       "    <tr>\n",
       "      <th>Yes</th>\n",
       "      <td>106</td>\n",
       "      <td>2</td>\n",
       "      <td>Male</td>\n",
       "      <td>56</td>\n",
       "      <td>106</td>\n",
       "      <td>4</td>\n",
       "      <td>25-34</td>\n",
       "      <td>40</td>\n",
       "      <td>106</td>\n",
       "      <td>3</td>\n",
       "      <td>ABC1</td>\n",
       "      <td>65</td>\n",
       "      <td>106</td>\n",
       "      <td>3</td>\n",
       "      <td>None</td>\n",
       "      <td>74</td>\n",
       "    </tr>\n",
       "  </tbody>\n",
       "</table>\n",
       "</div>"
      ],
      "text/plain": [
       "          Gender                       Age                    Social class  \\\n",
       "           count unique     top freq count unique    top freq        count   \n",
       "Incidence                                                                    \n",
       "No            94      2  Female   49    94      4  25-34   36           94   \n",
       "Yes          106      2    Male   56   106      4  25-34   40          106   \n",
       "\n",
       "                            Children                    \n",
       "          unique   top freq    count unique   top freq  \n",
       "Incidence                                               \n",
       "No             3  ABC1   58       94      3  None   59  \n",
       "Yes            3  ABC1   65      106      3  None   74  "
      ]
     },
     "execution_count": 139,
     "metadata": {},
     "output_type": "execute_result"
    }
   ],
   "source": [
    "# use groupby function\n",
    "incidence = df_main.groupby('Incidence')\n",
    "incidence.describe()"
   ]
  },
  {
   "cell_type": "markdown",
   "id": "12af9293",
   "metadata": {},
   "source": [
    "To visualize better the informaton, seaborn module offers great plot otions"
   ]
  },
  {
   "cell_type": "markdown",
   "id": "6723c34e",
   "metadata": {},
   "source": [
    "- #### Incidence"
   ]
  },
  {
   "cell_type": "code",
   "execution_count": 140,
   "id": "98c7327a",
   "metadata": {},
   "outputs": [
    {
     "data": {
      "image/png": "[encoded data removed]",
      "text/plain": [
       "<Figure size 432x288 with 1 Axes>"
      ]
     },
     "metadata": {},
     "output_type": "display_data"
    }
   ],
   "source": [
    "#sns.set(style=\"darkgrid\")\n",
    "sns.countplot(x = 'Incidence', data=df_main)\n",
    "plt.show()"
   ]
  },
  {
   "cell_type": "markdown",
   "id": "14fe1e55",
   "metadata": {},
   "source": [
    "Aproximattely half of the population in Ireland are covered with private health insurance "
   ]
  },
  {
   "cell_type": "markdown",
   "id": "a803b674",
   "metadata": {},
   "source": [
    "- #### Age group and Social class\n",
    "We can add more atributes to the graph by usinh hue function"
   ]
  },
  {
   "cell_type": "code",
   "execution_count": 141,
   "id": "6a401526",
   "metadata": {},
   "outputs": [
    {
     "data": {
      "image/png": "[encoded data removed]",
      "text/plain": [
       "<Figure size 432x288 with 1 Axes>"
      ]
     },
     "metadata": {},
     "output_type": "display_data"
    }
   ],
   "source": [
    "sns.set(style=\"darkgrid\")\n",
    "sns.countplot(x = 'Age', hue='Social class', data=df_main)\n",
    "plt.show()"
   ]
  },
  {
   "cell_type": "markdown",
   "id": "b7e148cc",
   "metadata": {},
   "source": [
    "Here we can see the majority of people with private health insurance are from middle and upper class"
   ]
  },
  {
   "cell_type": "markdown",
   "id": "1035d0b7",
   "metadata": {},
   "source": [
    "- #### Number of children per policy"
   ]
  },
  {
   "cell_type": "code",
   "execution_count": 142,
   "id": "486e934e",
   "metadata": {},
   "outputs": [
    {
     "data": {
      "image/png": "[encoded data removed]",
      "text/plain": [
       "<Figure size 432x288 with 1 Axes>"
      ]
     },
     "metadata": {},
     "output_type": "display_data"
    }
   ],
   "source": [
    "# sns.set(style=\"darkgrid\")\n",
    "sns.countplot(x = 'Children', data=df_main)\n",
    "plt.show()"
   ]
  },
  {
   "cell_type": "markdown",
   "id": "6ba382cc",
   "metadata": {},
   "source": [
    "Interestingly most of the policies have no children covered"
   ]
  },
  {
   "attachments": {},
   "cell_type": "markdown",
   "id": "cfa60ba0",
   "metadata": {},
   "source": [
    "### 4. References\n",
    "\n",
    "- https://www.hia.ie/sites/default/files/Health%20Insurance%20Authority%20Kantar%20Report%202021%20Jan%202022%20Final.pdf\n",
    "\n",
    "\n",
    "- https://www.hia.ie/publication/consumer-surveys\n",
    "\n",
    "\n",
    "- https://pandas.pydata.org/docs/user_guide/index.html#user-guide\n",
    "\n",
    "\n",
    "- https://numpy.org/doc/stable/reference/random/generator.html\n",
    "\n",
    "\n",
    "- https://seaborn.pydata.org/generated/seaborn.countplot.html\n",
    "\n",
    "\n",
    "- https://www.geeksforgeeks.org/create-a-pandas-dataframe-from-lists/\n",
    "\n",
    "\n",
    "- https://stackoverflow.com/questions/23246125/how-to-center-labels-in-histogram-plot\n",
    "\n",
    "\n",
    "- https://pandas.pydata.org/docs/reference/api/pandas.DataFrame.describe.html\n",
    "\n",
    "\n",
    "- https://www.geeksforgeeks.org/countplot-using-seaborn-in-python/\n",
    "\n",
    "\n",
    "- https://numpy.org/devdocs/reference/generated/numpy.unique.html\n",
    "\n",
    "\n",
    "- https://www.freecodecamp.org/news/how-to-write-a-good-readme-file/\n",
    "\n",
    "\n",
    "- https://bulldogjob.com/readme/how-to-write-a-good-readme-for-your-github-project\n",
    "\n",
    "\n",
    "- https://docs.github.com/en/get-started/writing-on-github/getting-started-with-writing-and-formatting-on-github/basic-writing-and-formatting-syntax"
   ]
  }
 ],
 "metadata": {
  "kernelspec": {
   "display_name": "Python 3 (ipykernel)",
   "language": "python",
   "name": "python3"
  },
  "language_info": {
   "codemirror_mode": {
    "name": "ipython",
    "version": 3
   },
   "file_extension": ".py",
   "mimetype": "text/x-python",
   "name": "python",
   "nbconvert_exporter": "python",
   "pygments_lexer": "ipython3",
   "version": "3.9.7"
  }
 },
 "nbformat": 4,
 "nbformat_minor": 5
}
