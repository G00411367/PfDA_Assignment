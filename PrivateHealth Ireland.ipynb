{
 "cells": [
  {
   "cell_type": "markdown",
   "id": "58c25ef1",
   "metadata": {},
   "source": [
    "# Programming for Data Analysis Project"
   ]
  },
  {
   "cell_type": "markdown",
   "id": "4e0061a8",
   "metadata": {},
   "source": [
    "GG00411367 Ioan Domsa"
   ]
  },
  {
   "cell_type": "markdown",
   "id": "75decce7",
   "metadata": {},
   "source": [
    "The scope of this project is to create a synthetic dataset of a world phenomenon and investigate the modeled dataset using Python"
   ]
  },
  {
   "cell_type": "markdown",
   "id": "b93ee885",
   "metadata": {},
   "source": [
    "## Phenomenon"
   ]
  },
  {
   "cell_type": "markdown",
   "id": "ba759b4b",
   "metadata": {},
   "source": [
    "For this project I am investigating the Private Health Insurance in Ireland in 2021"
   ]
  },
  {
   "cell_type": "markdown",
   "id": "800cef0b",
   "metadata": {},
   "source": [
    "Ireland like all European countries offers public health to its citizens at a substantial reduced rate. \n",
    "Although Ireland's spend on healthcare per capita is among highest in Europe, Ireland has one of the fewest available hospital beds in the EU. Also, Ireland has one of the lowest amount of doctors per capita in Europe.\n",
    "These particularities together with other factors creates very long weitlists for public health.\n",
    "For this reason people choose to purchase private healt insurance but the price consideration is a great barrier."
   ]
  },
  {
   "cell_type": "markdown",
   "id": "b009bae1",
   "metadata": {},
   "source": [
    "## Variables"
   ]
  },
  {
   "cell_type": "markdown",
   "id": "5dcc175a",
   "metadata": {},
   "source": [
    "As health is the center of our lifes I believe it is interesting to understand the the extent of population in Ireland purchasing private health insurance and the profile of it. \n",
    "\n",
    "The project is analyzing the following variables:"
   ]
  },
  {
   "cell_type": "markdown",
   "id": "0349a288",
   "metadata": {},
   "source": [
    "- Gender Male/Female\n",
    "- Age group: 18-24, 25-44, 45-64, 65+\n",
    "- Social class: ABC1, C2DE, F\n",
    "- Average number of children per policy: 0, 1, 2+\n",
    "- Incidence of private health: Yes/No "
   ]
  },
  {
   "cell_type": "markdown",
   "id": "64c3389a",
   "metadata": {},
   "source": [
    "The dataset has a population of 1000"
   ]
  },
  {
   "cell_type": "markdown",
   "id": "41a8c9e1",
   "metadata": {},
   "source": [
    "## Importing python packages"
   ]
  },
  {
   "cell_type": "code",
   "execution_count": 31,
   "id": "6c579d2f",
   "metadata": {},
   "outputs": [],
   "source": [
    "import numpy as np\n",
    "import pandas as pd\n",
    "import matplotlib.pyplot as plt\n",
    "\n",
    "rng = np.random.default_rng(0)"
   ]
  },
  {
   "cell_type": "markdown",
   "id": "21df4a46",
   "metadata": {},
   "source": [
    "### Gender"
   ]
  },
  {
   "cell_type": "markdown",
   "id": "1fb786e1",
   "metadata": {},
   "source": [
    "Representation of gender of the population with private health insurance as per survey is:\n",
    "\n",
    "- 52% Male\n",
    "- 48% Female"
   ]
  },
  {
   "cell_type": "code",
   "execution_count": 32,
   "id": "c2c7d54d",
   "metadata": {},
   "outputs": [],
   "source": [
    "# Generate gender list \n",
    "gen = [\"Male\", \"Female\"]\n",
    "size = 100\n",
    "p = [0.52, 0.48]\n",
    "\n",
    "Gender = rng.choice(gen, size = size, p = p)\n",
    "# print(Gender)\n",
    "# Gender"
   ]
  },
  {
   "cell_type": "code",
   "execution_count": 33,
   "id": "5e0b59a1",
   "metadata": {},
   "outputs": [
    {
     "data": {
      "text/plain": [
       "(array(['Female', 'Male'], dtype='<U6'), array([56, 44], dtype=int64))"
      ]
     },
     "execution_count": 33,
     "metadata": {},
     "output_type": "execute_result"
    }
   ],
   "source": [
    "# Find unique elements of the list and count the number of times they appear in list\n",
    "unique_elements = np.unique(Gender, return_counts=True)\n",
    "unique_elements"
   ]
  },
  {
   "cell_type": "code",
   "execution_count": 34,
   "id": "5c84e88e",
   "metadata": {},
   "outputs": [
    {
     "name": "stdout",
     "output_type": "stream",
     "text": [
      "[['Female' 'Male']\n",
      " ['56' '44']]\n"
     ]
    }
   ],
   "source": [
    "print(np.asarray(unique_elements))"
   ]
  },
  {
   "cell_type": "code",
   "execution_count": 35,
   "id": "7f34162a",
   "metadata": {},
   "outputs": [
    {
     "data": {
      "text/plain": [
       "<function matplotlib.pyplot.show(close=None, block=None)>"
      ]
     },
     "execution_count": 35,
     "metadata": {},
     "output_type": "execute_result"
    },
    {
     "data": {
      "image/png": "[encoded data removed]",
      "text/plain": [
       "<Figure size 432x288 with 1 Axes>"
      ]
     },
     "metadata": {
      "needs_background": "light"
     },
     "output_type": "display_data"
    }
   ],
   "source": [
    "plt.hist(Gender)\n",
    "plt.show"
   ]
  },
  {
   "cell_type": "markdown",
   "id": "ee9daed7",
   "metadata": {},
   "source": [
    "### Incidence"
   ]
  },
  {
   "cell_type": "markdown",
   "id": "f47647d1",
   "metadata": {},
   "source": [
    "The survey shows that 53% of population has purchase private helth insurance in 2021 and 47% did not.\n",
    "\n",
    "- 53% Yes \n",
    "- 47% No"
   ]
  }
 ],
 "metadata": {
  "kernelspec": {
   "display_name": "Python 3 (ipykernel)",
   "language": "python",
   "name": "python3"
  },
  "language_info": {
   "codemirror_mode": {
    "name": "ipython",
    "version": 3
   },
   "file_extension": ".py",
   "mimetype": "text/x-python",
   "name": "python",
   "nbconvert_exporter": "python",
   "pygments_lexer": "ipython3",
   "version": "3.9.7"
  }
 },
 "nbformat": 4,
 "nbformat_minor": 5
}
